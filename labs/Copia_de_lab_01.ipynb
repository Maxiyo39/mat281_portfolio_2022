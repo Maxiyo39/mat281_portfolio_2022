{
  "cells": [
    {
      "cell_type": "markdown",
      "id": "e2696553",
      "metadata": {
        "id": "e2696553"
      },
      "source": [
        "<a href=\"https://colab.research.google.com/github/fralfaro/MAT281_2022/blob/main/labs/lab_01.ipynb\n",
        "\" target=\"_parent\"><img src=\"https://colab.research.google.com/assets/colab-badge.svg\" alt=\"Open In Colab\"/></a>\n",
        "\n",
        "\n",
        "# MAT281 - Laboratorio N°01\n"
      ]
    },
    {
      "cell_type": "markdown",
      "id": "a869ace0",
      "metadata": {
        "id": "a869ace0"
      },
      "source": [
        "## Problema 01\n",
        "\n",
        "En los siglos XVII y XVIII, James Gregory y Gottfried Leibniz descubrieron una serie infinita que sirve para calcular $\\pi$:\n",
        "\n",
        "$$\\displaystyle \\pi = 4 \\sum_{k=1}^{\\infty}\\dfrac{(-1)^{k+1}}{2k-1} = 4(1-\\dfrac{1}{3}+\\dfrac{1}{5}-\\dfrac{1}{7} + ...) $$\n",
        "\n",
        "Desarolle un programa para estimar el valor de $\\pi$ ocupando el método de Leibniz, donde la entrada del programa debe ser un número entero $n$ que indique cuántos términos de la suma se utilizará.\n",
        "\n",
        "\n",
        "* **Ejemplo**: \n",
        "    * *calcular_pi(3)* = 3.466666666666667\n",
        "    * *calcular_pi(1000)* = 3.140592653839794"
      ]
    },
    {
      "cell_type": "code",
      "execution_count": 14,
      "id": "dd54e855",
      "metadata": {
        "id": "dd54e855"
      },
      "outputs": [],
      "source": [
        "# respuesta\n",
        "\n",
        "def calcular_pi(n):\n",
        "  #calcular pi por metodo Leibniz#\n",
        "\n",
        "  suma=0\n",
        "  for k in range(1,n+1,1):\n",
        "    valor= ((-1)**(k+1))/(2*k-1)\n",
        "    suma= suma + valor\n",
        "\n",
        "  return 4*suma"
      ]
    },
    {
      "cell_type": "code",
      "source": [
        "calcular_pi(3)"
      ],
      "metadata": {
        "id": "cl91QXSXZRE9",
        "outputId": "0f6ad9ba-9872-4374-e362-c407c7203f57",
        "colab": {
          "base_uri": "https://localhost:8080/"
        }
      },
      "id": "cl91QXSXZRE9",
      "execution_count": 15,
      "outputs": [
        {
          "output_type": "execute_result",
          "data": {
            "text/plain": [
              "3.466666666666667"
            ]
          },
          "metadata": {},
          "execution_count": 15
        }
      ]
    },
    {
      "cell_type": "code",
      "source": [
        "calcular_pi(1000)"
      ],
      "metadata": {
        "id": "EM43rnleZjDY",
        "outputId": "6a9a70ff-fac8-484f-9f2a-602f0707708d",
        "colab": {
          "base_uri": "https://localhost:8080/"
        }
      },
      "id": "EM43rnleZjDY",
      "execution_count": 16,
      "outputs": [
        {
          "output_type": "execute_result",
          "data": {
            "text/plain": [
              "3.140592653839794"
            ]
          },
          "metadata": {},
          "execution_count": 16
        }
      ]
    },
    {
      "cell_type": "markdown",
      "id": "c26be634",
      "metadata": {
        "id": "c26be634"
      },
      "source": [
        "## Problema 02\n",
        "\n",
        "Euler realizó varios aportes en relación a $e$, pero no fue hasta 1748 cuando publicó su **Introductio in analysin infinitorum** que dio un tratamiento definitivo a las ideas sobre $e$. Allí mostró que:\n",
        "\n",
        "\n",
        "En los siglos XVII y XVIII, James Gregory y Gottfried Leibniz descubrieron una serie infinita que sirve para calcular π:\n",
        "\n",
        "$$\\displaystyle e = \\sum_{k=0}^{\\infty}\\dfrac{1}{k!} = 1+\\dfrac{1}{2!}+\\dfrac{1}{3!}+\\dfrac{1}{4!} + ... $$\n",
        "\n",
        "Desarolle un programa para estimar el valor de $e$ ocupando el método de Euler, donde la entrada del programa debe ser un número entero $n$ que indique cuántos términos de la suma se utilizará. \n",
        "\n",
        "Para esto:\n",
        "\n",
        "* a) Defina la función `factorial`, donde la entrada sea un número natural  $n$ y la salida sea el factorial de dicho número.\n",
        "    * **Ejemplo**: *factorial(3)* =6, *factorial(5)* = 120\n",
        "    \n",
        "    \n",
        "* b) Ocupe la función `factorial` dentro de la función `calcular_e`.     \n",
        "    * **Ejemplo**: *calcular_e(3)* = 2.6666666666666665, *calcular_e(1000)* = 2.7182818284590455"
      ]
    },
    {
      "cell_type": "code",
      "execution_count": 17,
      "id": "6a5230ac",
      "metadata": {
        "id": "6a5230ac"
      },
      "outputs": [],
      "source": [
        "# respuesta\n",
        "\n",
        "def factorial(n):\n",
        "  producto=1\n",
        "  for i in range(1,n+1,1):\n",
        "    producto= producto*i\n",
        "  return producto\n",
        "\n",
        "def calcular_e(n):\n",
        "  #calcular el valor de e usadno el metodo de euler\n",
        "  suma=0\n",
        "  for i in range(0,n+1,1):\n",
        "    valor=1/factorial(i)\n",
        "    suma= suma + valor\n",
        "  return suma"
      ]
    },
    {
      "cell_type": "code",
      "source": [
        "factorial(3)"
      ],
      "metadata": {
        "id": "SfwuI1ZEcKRQ",
        "outputId": "0fc3788c-de63-4102-9f75-d7a97a5bfa01",
        "colab": {
          "base_uri": "https://localhost:8080/"
        }
      },
      "id": "SfwuI1ZEcKRQ",
      "execution_count": 18,
      "outputs": [
        {
          "output_type": "execute_result",
          "data": {
            "text/plain": [
              "6"
            ]
          },
          "metadata": {},
          "execution_count": 18
        }
      ]
    },
    {
      "cell_type": "code",
      "source": [
        "factorial(5)"
      ],
      "metadata": {
        "id": "9DOP-YCycRgW",
        "outputId": "f57c3de9-5595-48e1-e766-7e7d95e8d386",
        "colab": {
          "base_uri": "https://localhost:8080/"
        }
      },
      "id": "9DOP-YCycRgW",
      "execution_count": 19,
      "outputs": [
        {
          "output_type": "execute_result",
          "data": {
            "text/plain": [
              "120"
            ]
          },
          "metadata": {},
          "execution_count": 19
        }
      ]
    },
    {
      "cell_type": "code",
      "source": [
        "calcular_e(3)"
      ],
      "metadata": {
        "id": "DylNy88mdP6N",
        "outputId": "0bca4e84-afcf-4dfb-9477-04cd0638b8ac",
        "colab": {
          "base_uri": "https://localhost:8080/"
        }
      },
      "id": "DylNy88mdP6N",
      "execution_count": 20,
      "outputs": [
        {
          "output_type": "execute_result",
          "data": {
            "text/plain": [
              "2.6666666666666665"
            ]
          },
          "metadata": {},
          "execution_count": 20
        }
      ]
    },
    {
      "cell_type": "code",
      "source": [
        "calcular_e(1000)"
      ],
      "metadata": {
        "id": "05K833gCdWsQ",
        "outputId": "f3a37811-0a70-40e7-ee56-18cc95ec16de",
        "colab": {
          "base_uri": "https://localhost:8080/"
        }
      },
      "id": "05K833gCdWsQ",
      "execution_count": 21,
      "outputs": [
        {
          "output_type": "execute_result",
          "data": {
            "text/plain": [
              "2.7182818284590455"
            ]
          },
          "metadata": {},
          "execution_count": 21
        }
      ]
    },
    {
      "cell_type": "markdown",
      "id": "9707be93",
      "metadata": {
        "id": "9707be93"
      },
      "source": [
        "## Problema 03\n",
        "\n",
        "Sea $\\sigma(n)$ definido como la suma de los divisores propios de $n$ (números menores que n que se dividen en $n$).\n",
        "\n",
        "Los [números amigos](https://en.wikipedia.org/wiki/Amicable_numbers) son  enteros positivos $n_1$ y $n_2$ tales que la suma de los divisores propios de uno es igual al otro número y viceversa, es decir, $\\sigma(n_1)=\\sigma(n_2)$ y $\\sigma(n_2)=\\sigma(n_1)$.\n",
        "\n",
        "\n",
        "Por ejemplo, los números 220 y 284 son números amigos.\n",
        "* los divisores propios de 220 son 1, 2, 4, 5, 10, 11, 20, 22, 44, 55 y 110; por lo tanto $\\sigma(220) = 284$. \n",
        "* los divisores propios de 284 son 1, 2, 4, 71 y 142; entonces $\\sigma(284) = 220$.\n",
        "\n",
        "\n",
        "Implemente una función llamada `amigos` cuyo input sean dos números naturales $n_1$ y $n_2$, cuyo output sea verifique si los números son amigos o no. \n",
        "\n",
        "Para esto:\n",
        "\n",
        "* a) Defina la función `divisores_propios`, donde la entrada sea un número natural $n$ y la salida sea una lista con los divisores propios de dicho número.\n",
        "    * **Ejemplo**: *divisores_propios(220)* = [1, 2, 4, 5, 10, 11, 20, 22, 44, 55 y 110], *divisores_propios(284)* = [1, 2, 4, 71 y 142]\n",
        "    \n",
        "    \n",
        "* b) Ocupe la función `divisores_propios` dentro de la función `amigos`.\n",
        "\n",
        "    * **Ejemplo**: *amigos(220,284)* = True, *amigos(6,5)* = False"
      ]
    },
    {
      "cell_type": "code",
      "execution_count": 22,
      "id": "e695ea21",
      "metadata": {
        "id": "e695ea21"
      },
      "outputs": [],
      "source": [
        "from IPython.core.display import Javascript\n",
        "# respuesta\n",
        "def divisores_propios(n):\n",
        "  divisores=[]\n",
        "  for i in range(1,n+1,1):\n",
        "    razon=n/i\n",
        "    if int(razon)==razon and i<n:\n",
        "      divisores.append(i)\n",
        "  return divisores\n",
        "\n",
        "def amigos(n1,n2):\n",
        "  divisores_n1=divisores_propios(n1)\n",
        "  divisores_n2=divisores_propios(n2)\n",
        "  suma1=0\n",
        "  for i in divisores_n1:\n",
        "    suma1= suma1 + i\n",
        "  suma2=0\n",
        "  for j in divisores_n2:\n",
        "    suma2= suma2 + j\n",
        "  if suma1==n2 and suma2==n1:\n",
        "    return True\n",
        "  else:\n",
        "    return False\n"
      ]
    },
    {
      "cell_type": "code",
      "source": [
        "divisores_propios(220)"
      ],
      "metadata": {
        "id": "r2QsNDqJfvZK",
        "outputId": "798ef84d-4b85-44cc-a313-287e9025fd58",
        "colab": {
          "base_uri": "https://localhost:8080/"
        }
      },
      "id": "r2QsNDqJfvZK",
      "execution_count": 23,
      "outputs": [
        {
          "output_type": "execute_result",
          "data": {
            "text/plain": [
              "[1, 2, 4, 5, 10, 11, 20, 22, 44, 55, 110]"
            ]
          },
          "metadata": {},
          "execution_count": 23
        }
      ]
    },
    {
      "cell_type": "code",
      "source": [
        "divisores_propios(284)"
      ],
      "metadata": {
        "id": "lGIj4f3TgACO",
        "outputId": "1ed92251-e3b8-4f1a-96dd-02040ef97422",
        "colab": {
          "base_uri": "https://localhost:8080/"
        }
      },
      "id": "lGIj4f3TgACO",
      "execution_count": 24,
      "outputs": [
        {
          "output_type": "execute_result",
          "data": {
            "text/plain": [
              "[1, 2, 4, 71, 142]"
            ]
          },
          "metadata": {},
          "execution_count": 24
        }
      ]
    },
    {
      "cell_type": "code",
      "source": [
        "amigos(220,284)"
      ],
      "metadata": {
        "id": "_bWQT7eUhaxe",
        "outputId": "7cdfa2c6-b408-4fcd-bd3e-71cbd66e895e",
        "colab": {
          "base_uri": "https://localhost:8080/"
        }
      },
      "id": "_bWQT7eUhaxe",
      "execution_count": 25,
      "outputs": [
        {
          "output_type": "execute_result",
          "data": {
            "text/plain": [
              "True"
            ]
          },
          "metadata": {},
          "execution_count": 25
        }
      ]
    },
    {
      "cell_type": "code",
      "source": [
        "amigos(5,6)"
      ],
      "metadata": {
        "id": "yAofLDT_h5xJ",
        "outputId": "a71dfad9-06bc-4847-cd4e-10916b30db55",
        "colab": {
          "base_uri": "https://localhost:8080/"
        }
      },
      "id": "yAofLDT_h5xJ",
      "execution_count": 26,
      "outputs": [
        {
          "output_type": "execute_result",
          "data": {
            "text/plain": [
              "False"
            ]
          },
          "metadata": {},
          "execution_count": 26
        }
      ]
    },
    {
      "cell_type": "markdown",
      "id": "cf93a039",
      "metadata": {
        "id": "cf93a039"
      },
      "source": [
        "## Problema 04\n",
        "\n",
        "La [conjetura de Collatz](https://en.wikipedia.org/wiki/Collatz_conjecture), conocida también como conjetura $3n+1$ o conjetura de Ulam (entre otros nombres), fue enunciada por el matemático Lothar Collatz en 1937, y a la fecha no se ha resuelto.\n",
        "\n",
        "Sea la siguiente operación, aplicable a cualquier número entero positivo:\n",
        "* Si el número es par, se divide entre 2.\n",
        "* Si el número es impar, se multiplica por 3 y se suma 1.\n",
        "\n",
        "La conjetura dice que siempre alcanzaremos el 1 (y por tanto el ciclo 4, 2, 1) para cualquier número con el que comencemos. \n",
        "\n",
        "Implemente una función llamada `collatz` cuyo input sea un número natural positivo $N$ y como output devulva la secuencia de números hasta llegar a 1.\n",
        "\n",
        "* **Ejemplo**: *collatz(9)* = [9, 28, 14, 7, 22, 11, 34, 17, 52, 26, 13, 40, 20, 10, 5, 16, 8, 4, 2, 1]"
      ]
    },
    {
      "cell_type": "code",
      "execution_count": 27,
      "id": "aef80dac",
      "metadata": {
        "id": "aef80dac"
      },
      "outputs": [],
      "source": [
        "# respuesta\n",
        "def collatz(n):\n",
        "  lista=[]\n",
        "  lista.append(n)\n",
        "  if n==1:            #caso especial n=1#       \n",
        "    k=3*n+1\n",
        "    lista.append(k)\n",
        "  else:\n",
        "    k=n\n",
        "  while k!=1:         #obtencion de los digitos k de collatz#\n",
        "    if int(k/2)==k/2: #comprobacion k es par#\n",
        "      k=int(k/2)\n",
        "      lista.append(k)\n",
        "    else:\n",
        "      k=int(3*k+1)\n",
        "      lista.append(k)\n",
        "  return lista"
      ]
    },
    {
      "cell_type": "code",
      "source": [
        "collatz(9)"
      ],
      "metadata": {
        "id": "BuazHDq6ml1y",
        "outputId": "842359be-da72-4d9c-e254-fd8d9d0f3d42",
        "colab": {
          "base_uri": "https://localhost:8080/"
        }
      },
      "id": "BuazHDq6ml1y",
      "execution_count": 28,
      "outputs": [
        {
          "output_type": "execute_result",
          "data": {
            "text/plain": [
              "[9, 28, 14, 7, 22, 11, 34, 17, 52, 26, 13, 40, 20, 10, 5, 16, 8, 4, 2, 1]"
            ]
          },
          "metadata": {},
          "execution_count": 28
        }
      ]
    },
    {
      "cell_type": "markdown",
      "id": "d15af4eb",
      "metadata": {
        "id": "d15af4eb"
      },
      "source": [
        "## Problema 05\n",
        "La [conjetura de Goldbach](https://en.wikipedia.org/wiki/Goldbach%27s_conjecture) es uno de los problemas abiertos más antiguos en matemáticas. Concretamente, G.H. Hardy, en 1921, en su famoso discurso pronunciado en la Sociedad Matemática de Copenhague, comentó que probablemente la conjetura de Goldbach no es solo uno de los problemas no resueltos más difíciles de la teoría de números, sino de todas las matemáticas. Su enunciado es el siguiente:\n",
        "\n",
        "> Todo número par mayor que 2 puede escribirse como suma de dos números primos - Christian Goldbach (1742)\n",
        "\n",
        "Implemente una función llamada `goldbach` cuyo input sea un número natural positivo $n$ y como output devuelva la suma de dos primos ($n_1$ y $n_2$) tal que: $n_1+n_2=n$. \n",
        "\n",
        "Para esto:\n",
        "\n",
        "* a) Defina la función `es_primo`, donde la entrada sea un número natural $n$ y la salida sea **True** si el número es primo y **False** en otro caso.\n",
        "    * **Ejemplo**: *es_primo(3)* = True, *es_primo(4)* = False\n",
        "    \n",
        "    \n",
        "* b)  Defina la función `lista_de_primos`, donde la entrada sea un número natural par $n$ mayor que dos y la salida sea una lista con todos los número primos entre 2 y $n$.\n",
        "    * **Ejemplo**: *lista_de_primos(4)* = [2,3], *lista_de_primos(6)* = [2,3,5], *lista_de_primos(8)* = [2,3,5,7]\n",
        "\n",
        "\n",
        "* c) Ocupe la función `lista_de_primos` dentro de la función `goldbash`.\n",
        " * **Ejemplo**: goldbash(4) = (2,2), goldbash(6) = (3,3) , goldbash(8) = (3,5)"
      ]
    },
    {
      "cell_type": "code",
      "execution_count": 33,
      "id": "d47d37c6",
      "metadata": {
        "id": "d47d37c6"
      },
      "outputs": [],
      "source": [
        "# respuesta\n",
        "\n",
        "def es_primo(n):\n",
        "  for i in range(2,n+1,1):\n",
        "    if int(n/i)==n/i and n!=i:\n",
        "      return False\n",
        "    else:\n",
        "      return True\n",
        "\n",
        "def lista_de_primos(n):\n",
        "  if n>2 and int(n/2)==n/2:\n",
        "    primos=[]\n",
        "    for i in range(2,n,1):\n",
        "      if es_primo(i)==True:\n",
        "        primos.append(i)\n",
        "    return primos\n",
        "  else:\n",
        "    print(\"el numero n ingresado no es un numero natural par mayor que dos\")\n",
        "\n",
        "def goldbash(n):\n",
        "  if n>2 and int(n/2)==n/2:\n",
        "    lista=lista_de_primos(n)\n",
        "    for i in lista:\n",
        "      if es_primo(n-i)==True:\n",
        "        return i, n-i\n",
        "  else:\n",
        "    print(\"el numero n ingresado no es un numero natural par mayor que dos\")\n"
      ]
    },
    {
      "cell_type": "code",
      "source": [
        "es_primo(3)"
      ],
      "metadata": {
        "id": "sVwe1jYmoYsM",
        "outputId": "fdf0de64-a955-4bbd-b3ed-5a309ad0295e",
        "colab": {
          "base_uri": "https://localhost:8080/"
        }
      },
      "id": "sVwe1jYmoYsM",
      "execution_count": 41,
      "outputs": [
        {
          "output_type": "execute_result",
          "data": {
            "text/plain": [
              "True"
            ]
          },
          "metadata": {},
          "execution_count": 41
        }
      ]
    },
    {
      "cell_type": "code",
      "source": [
        "es_primo(4)"
      ],
      "metadata": {
        "id": "ZP9oniTioknb",
        "outputId": "22b1797e-7bd2-49c0-9289-f95e5db4468f",
        "colab": {
          "base_uri": "https://localhost:8080/"
        }
      },
      "id": "ZP9oniTioknb",
      "execution_count": 31,
      "outputs": [
        {
          "output_type": "execute_result",
          "data": {
            "text/plain": [
              "False"
            ]
          },
          "metadata": {},
          "execution_count": 31
        }
      ]
    },
    {
      "cell_type": "code",
      "source": [
        "lista_de_primos(4)"
      ],
      "metadata": {
        "id": "JoytN6q2qxlV",
        "outputId": "505b674e-6a06-4e5d-e48c-a44f40d74792",
        "colab": {
          "base_uri": "https://localhost:8080/"
        }
      },
      "id": "JoytN6q2qxlV",
      "execution_count": 34,
      "outputs": [
        {
          "output_type": "execute_result",
          "data": {
            "text/plain": [
              "[2, 3]"
            ]
          },
          "metadata": {},
          "execution_count": 34
        }
      ]
    },
    {
      "cell_type": "code",
      "source": [
        "lista_de_primos(6)"
      ],
      "metadata": {
        "id": "COAZFX76rReg",
        "outputId": "d0f9b601-7d81-47cb-b269-f7615e04d25b",
        "colab": {
          "base_uri": "https://localhost:8080/"
        }
      },
      "id": "COAZFX76rReg",
      "execution_count": 35,
      "outputs": [
        {
          "output_type": "execute_result",
          "data": {
            "text/plain": [
              "[2, 3, 5]"
            ]
          },
          "metadata": {},
          "execution_count": 35
        }
      ]
    },
    {
      "cell_type": "code",
      "source": [
        "lista_de_primos(8)"
      ],
      "metadata": {
        "id": "hYhcOJi8rUvB",
        "outputId": "bdde6d60-4780-4821-a026-0b3d29e9b549",
        "colab": {
          "base_uri": "https://localhost:8080/"
        }
      },
      "id": "hYhcOJi8rUvB",
      "execution_count": 36,
      "outputs": [
        {
          "output_type": "execute_result",
          "data": {
            "text/plain": [
              "[2, 3, 5, 7]"
            ]
          },
          "metadata": {},
          "execution_count": 36
        }
      ]
    },
    {
      "cell_type": "code",
      "source": [
        "goldbash(4)"
      ],
      "metadata": {
        "id": "Ml1Ff-OPtDEu",
        "colab": {
          "base_uri": "https://localhost:8080/"
        },
        "outputId": "73673aad-e516-4556-eb1f-79fd17d34d4c"
      },
      "id": "Ml1Ff-OPtDEu",
      "execution_count": 37,
      "outputs": [
        {
          "output_type": "execute_result",
          "data": {
            "text/plain": [
              "(2, 2)"
            ]
          },
          "metadata": {},
          "execution_count": 37
        }
      ]
    },
    {
      "cell_type": "code",
      "source": [
        "goldbash(6)"
      ],
      "metadata": {
        "colab": {
          "base_uri": "https://localhost:8080/"
        },
        "id": "UznupSxEqSov",
        "outputId": "a1b29010-f533-4e34-b17c-77ebd368cbae"
      },
      "id": "UznupSxEqSov",
      "execution_count": 38,
      "outputs": [
        {
          "output_type": "execute_result",
          "data": {
            "text/plain": [
              "(3, 3)"
            ]
          },
          "metadata": {},
          "execution_count": 38
        }
      ]
    },
    {
      "cell_type": "code",
      "source": [
        "goldbash(8)"
      ],
      "metadata": {
        "colab": {
          "base_uri": "https://localhost:8080/"
        },
        "id": "a3LiW8ozqXxg",
        "outputId": "1b4efaca-5ec2-4077-d162-ab8dc3cab799"
      },
      "id": "a3LiW8ozqXxg",
      "execution_count": 39,
      "outputs": [
        {
          "output_type": "execute_result",
          "data": {
            "text/plain": [
              "(3, 5)"
            ]
          },
          "metadata": {},
          "execution_count": 39
        }
      ]
    }
  ],
  "metadata": {
    "kernelspec": {
      "display_name": "Python 3 (ipykernel)",
      "language": "python",
      "name": "python3"
    },
    "language_info": {
      "codemirror_mode": {
        "name": "ipython",
        "version": 3
      },
      "file_extension": ".py",
      "mimetype": "text/x-python",
      "name": "python",
      "nbconvert_exporter": "python",
      "pygments_lexer": "ipython3",
      "version": "3.8.8"
    },
    "colab": {
      "provenance": [],
      "name": "Copia de lab_01.ipynb"
    }
  },
  "nbformat": 4,
  "nbformat_minor": 5
}
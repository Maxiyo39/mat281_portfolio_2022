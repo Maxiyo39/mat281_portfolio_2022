{
  "cells": [
    {
      "cell_type": "markdown",
      "metadata": {
        "id": "Sitx8SWo5UZ6"
      },
      "source": [
        "<a href=\"https://colab.research.google.com/github/fralfaro/MAT281_2022/blob/main/labs/lab_09/lab_09.ipynb\" target=\"_parent\"><img src=\"https://colab.research.google.com/assets/colab-badge.svg\" alt=\"Open In Colab\"/></a>\n",
        "\n",
        "\n",
        "# MAT281 - Laboratorio N°09\n",
        "\n"
      ]
    },
    {
      "cell_type": "markdown",
      "metadata": {
        "id": "sTr5cYk45UZ_"
      },
      "source": [
        "<a id='p1'></a>\n",
        "## I.- Problema 01\n",
        "\n",
        "\n",
        "<img src=\"https://www.goodnewsnetwork.org/wp-content/uploads/2019/07/immunotherapy-vaccine-attacks-cancer-cells-immune-blood-Fotolia_purchased.jpg\" width=\"360\" height=\"360\" align=\"center\"/>\n",
        "\n",
        "\n",
        "El **cáncer de mama**  es una proliferación maligna de las células epiteliales que revisten los conductos o lobulillos mamarios. Es una enfermedad clonal; donde una célula individual producto de una serie de mutaciones somáticas o de línea germinal adquiere la capacidad de dividirse sin control ni orden, haciendo que se reproduzca hasta formar un tumor. El tumor resultante, que comienza como anomalía leve, pasa a ser grave, invade tejidos vecinos y, finalmente, se propaga a otras partes del cuerpo.\n",
        "\n",
        "El conjunto de datos se denomina `BC.csv`, el cual contine la información de distintos pacientes con tumosres (benignos o malignos) y algunas características del mismo.\n",
        "\n",
        "\n",
        "Las características se calculan a partir de una imagen digitalizada de un aspirado con aguja fina (FNA) de una masa mamaria. Describen las características de los núcleos celulares presentes en la imagen.\n",
        "Los detalles se puede encontrar en [K. P. Bennett and O. L. Mangasarian: \"Robust Linear Programming Discrimination of Two Linearly Inseparable Sets\", Optimization Methods and Software 1, 1992, 23-34].\n",
        "\n",
        "\n",
        "Lo primero será cargar el conjunto de datos:"
      ]
    },
    {
      "cell_type": "code",
      "execution_count": null,
      "metadata": {
        "id": "DBDSSCcA5UaB"
      },
      "outputs": [],
      "source": [
        "import os\n",
        "import numpy as np\n",
        "import pandas as pd\n",
        "import matplotlib.pyplot as plt\n",
        "import seaborn as sns\n",
        "\n",
        "from sklearn.preprocessing import StandardScaler\n",
        "from sklearn.decomposition import PCA\n",
        "\n",
        "\n",
        "%matplotlib inline\n",
        "sns.set_palette(\"deep\", desat=.6)\n",
        "sns.set(rc={'figure.figsize':(11.7,8.27)})"
      ]
    },
    {
      "cell_type": "code",
      "execution_count": null,
      "metadata": {
        "id": "8juQjKWA5UaC",
        "outputId": "bada638b-5a9b-4e5d-c25f-5031df97cdb9",
        "colab": {
          "base_uri": "https://localhost:8080/",
          "height": 317
        }
      },
      "outputs": [
        {
          "output_type": "execute_result",
          "data": {
            "text/plain": [
              "         id  diagnosis  radius_mean  texture_mean  perimeter_mean  area_mean  \\\n",
              "0    842302          1        17.99         10.38          122.80     1001.0   \n",
              "1    842517          1        20.57         17.77          132.90     1326.0   \n",
              "2  84300903          1        19.69         21.25          130.00     1203.0   \n",
              "3  84348301          1        11.42         20.38           77.58      386.1   \n",
              "4  84358402          1        20.29         14.34          135.10     1297.0   \n",
              "\n",
              "   smoothness_mean  compactness_mean  concavity_mean  concave points_mean  \\\n",
              "0          0.11840           0.27760          0.3001              0.14710   \n",
              "1          0.08474           0.07864          0.0869              0.07017   \n",
              "2          0.10960           0.15990          0.1974              0.12790   \n",
              "3          0.14250           0.28390          0.2414              0.10520   \n",
              "4          0.10030           0.13280          0.1980              0.10430   \n",
              "\n",
              "   ...  radius_worst  texture_worst  perimeter_worst  area_worst  \\\n",
              "0  ...         25.38          17.33           184.60      2019.0   \n",
              "1  ...         24.99          23.41           158.80      1956.0   \n",
              "2  ...         23.57          25.53           152.50      1709.0   \n",
              "3  ...         14.91          26.50            98.87       567.7   \n",
              "4  ...         22.54          16.67           152.20      1575.0   \n",
              "\n",
              "   smoothness_worst  compactness_worst  concavity_worst  concave points_worst  \\\n",
              "0            0.1622             0.6656           0.7119                0.2654   \n",
              "1            0.1238             0.1866           0.2416                0.1860   \n",
              "2            0.1444             0.4245           0.4504                0.2430   \n",
              "3            0.2098             0.8663           0.6869                0.2575   \n",
              "4            0.1374             0.2050           0.4000                0.1625   \n",
              "\n",
              "   symmetry_worst  fractal_dimension_worst  \n",
              "0          0.4601                  0.11890  \n",
              "1          0.2750                  0.08902  \n",
              "2          0.3613                  0.08758  \n",
              "3          0.6638                  0.17300  \n",
              "4          0.2364                  0.07678  \n",
              "\n",
              "[5 rows x 32 columns]"
            ],
            "text/html": [
              "\n",
              "  <div id=\"df-c55488da-f4ee-480f-b341-7ffc8535acbf\">\n",
              "    <div class=\"colab-df-container\">\n",
              "      <div>\n",
              "<style scoped>\n",
              "    .dataframe tbody tr th:only-of-type {\n",
              "        vertical-align: middle;\n",
              "    }\n",
              "\n",
              "    .dataframe tbody tr th {\n",
              "        vertical-align: top;\n",
              "    }\n",
              "\n",
              "    .dataframe thead th {\n",
              "        text-align: right;\n",
              "    }\n",
              "</style>\n",
              "<table border=\"1\" class=\"dataframe\">\n",
              "  <thead>\n",
              "    <tr style=\"text-align: right;\">\n",
              "      <th></th>\n",
              "      <th>id</th>\n",
              "      <th>diagnosis</th>\n",
              "      <th>radius_mean</th>\n",
              "      <th>texture_mean</th>\n",
              "      <th>perimeter_mean</th>\n",
              "      <th>area_mean</th>\n",
              "      <th>smoothness_mean</th>\n",
              "      <th>compactness_mean</th>\n",
              "      <th>concavity_mean</th>\n",
              "      <th>concave points_mean</th>\n",
              "      <th>...</th>\n",
              "      <th>radius_worst</th>\n",
              "      <th>texture_worst</th>\n",
              "      <th>perimeter_worst</th>\n",
              "      <th>area_worst</th>\n",
              "      <th>smoothness_worst</th>\n",
              "      <th>compactness_worst</th>\n",
              "      <th>concavity_worst</th>\n",
              "      <th>concave points_worst</th>\n",
              "      <th>symmetry_worst</th>\n",
              "      <th>fractal_dimension_worst</th>\n",
              "    </tr>\n",
              "  </thead>\n",
              "  <tbody>\n",
              "    <tr>\n",
              "      <th>0</th>\n",
              "      <td>842302</td>\n",
              "      <td>1</td>\n",
              "      <td>17.99</td>\n",
              "      <td>10.38</td>\n",
              "      <td>122.80</td>\n",
              "      <td>1001.0</td>\n",
              "      <td>0.11840</td>\n",
              "      <td>0.27760</td>\n",
              "      <td>0.3001</td>\n",
              "      <td>0.14710</td>\n",
              "      <td>...</td>\n",
              "      <td>25.38</td>\n",
              "      <td>17.33</td>\n",
              "      <td>184.60</td>\n",
              "      <td>2019.0</td>\n",
              "      <td>0.1622</td>\n",
              "      <td>0.6656</td>\n",
              "      <td>0.7119</td>\n",
              "      <td>0.2654</td>\n",
              "      <td>0.4601</td>\n",
              "      <td>0.11890</td>\n",
              "    </tr>\n",
              "    <tr>\n",
              "      <th>1</th>\n",
              "      <td>842517</td>\n",
              "      <td>1</td>\n",
              "      <td>20.57</td>\n",
              "      <td>17.77</td>\n",
              "      <td>132.90</td>\n",
              "      <td>1326.0</td>\n",
              "      <td>0.08474</td>\n",
              "      <td>0.07864</td>\n",
              "      <td>0.0869</td>\n",
              "      <td>0.07017</td>\n",
              "      <td>...</td>\n",
              "      <td>24.99</td>\n",
              "      <td>23.41</td>\n",
              "      <td>158.80</td>\n",
              "      <td>1956.0</td>\n",
              "      <td>0.1238</td>\n",
              "      <td>0.1866</td>\n",
              "      <td>0.2416</td>\n",
              "      <td>0.1860</td>\n",
              "      <td>0.2750</td>\n",
              "      <td>0.08902</td>\n",
              "    </tr>\n",
              "    <tr>\n",
              "      <th>2</th>\n",
              "      <td>84300903</td>\n",
              "      <td>1</td>\n",
              "      <td>19.69</td>\n",
              "      <td>21.25</td>\n",
              "      <td>130.00</td>\n",
              "      <td>1203.0</td>\n",
              "      <td>0.10960</td>\n",
              "      <td>0.15990</td>\n",
              "      <td>0.1974</td>\n",
              "      <td>0.12790</td>\n",
              "      <td>...</td>\n",
              "      <td>23.57</td>\n",
              "      <td>25.53</td>\n",
              "      <td>152.50</td>\n",
              "      <td>1709.0</td>\n",
              "      <td>0.1444</td>\n",
              "      <td>0.4245</td>\n",
              "      <td>0.4504</td>\n",
              "      <td>0.2430</td>\n",
              "      <td>0.3613</td>\n",
              "      <td>0.08758</td>\n",
              "    </tr>\n",
              "    <tr>\n",
              "      <th>3</th>\n",
              "      <td>84348301</td>\n",
              "      <td>1</td>\n",
              "      <td>11.42</td>\n",
              "      <td>20.38</td>\n",
              "      <td>77.58</td>\n",
              "      <td>386.1</td>\n",
              "      <td>0.14250</td>\n",
              "      <td>0.28390</td>\n",
              "      <td>0.2414</td>\n",
              "      <td>0.10520</td>\n",
              "      <td>...</td>\n",
              "      <td>14.91</td>\n",
              "      <td>26.50</td>\n",
              "      <td>98.87</td>\n",
              "      <td>567.7</td>\n",
              "      <td>0.2098</td>\n",
              "      <td>0.8663</td>\n",
              "      <td>0.6869</td>\n",
              "      <td>0.2575</td>\n",
              "      <td>0.6638</td>\n",
              "      <td>0.17300</td>\n",
              "    </tr>\n",
              "    <tr>\n",
              "      <th>4</th>\n",
              "      <td>84358402</td>\n",
              "      <td>1</td>\n",
              "      <td>20.29</td>\n",
              "      <td>14.34</td>\n",
              "      <td>135.10</td>\n",
              "      <td>1297.0</td>\n",
              "      <td>0.10030</td>\n",
              "      <td>0.13280</td>\n",
              "      <td>0.1980</td>\n",
              "      <td>0.10430</td>\n",
              "      <td>...</td>\n",
              "      <td>22.54</td>\n",
              "      <td>16.67</td>\n",
              "      <td>152.20</td>\n",
              "      <td>1575.0</td>\n",
              "      <td>0.1374</td>\n",
              "      <td>0.2050</td>\n",
              "      <td>0.4000</td>\n",
              "      <td>0.1625</td>\n",
              "      <td>0.2364</td>\n",
              "      <td>0.07678</td>\n",
              "    </tr>\n",
              "  </tbody>\n",
              "</table>\n",
              "<p>5 rows × 32 columns</p>\n",
              "</div>\n",
              "      <button class=\"colab-df-convert\" onclick=\"convertToInteractive('df-c55488da-f4ee-480f-b341-7ffc8535acbf')\"\n",
              "              title=\"Convert this dataframe to an interactive table.\"\n",
              "              style=\"display:none;\">\n",
              "        \n",
              "  <svg xmlns=\"http://www.w3.org/2000/svg\" height=\"24px\"viewBox=\"0 0 24 24\"\n",
              "       width=\"24px\">\n",
              "    <path d=\"M0 0h24v24H0V0z\" fill=\"none\"/>\n",
              "    <path d=\"M18.56 5.44l.94 2.06.94-2.06 2.06-.94-2.06-.94-.94-2.06-.94 2.06-2.06.94zm-11 1L8.5 8.5l.94-2.06 2.06-.94-2.06-.94L8.5 2.5l-.94 2.06-2.06.94zm10 10l.94 2.06.94-2.06 2.06-.94-2.06-.94-.94-2.06-.94 2.06-2.06.94z\"/><path d=\"M17.41 7.96l-1.37-1.37c-.4-.4-.92-.59-1.43-.59-.52 0-1.04.2-1.43.59L10.3 9.45l-7.72 7.72c-.78.78-.78 2.05 0 2.83L4 21.41c.39.39.9.59 1.41.59.51 0 1.02-.2 1.41-.59l7.78-7.78 2.81-2.81c.8-.78.8-2.07 0-2.86zM5.41 20L4 18.59l7.72-7.72 1.47 1.35L5.41 20z\"/>\n",
              "  </svg>\n",
              "      </button>\n",
              "      \n",
              "  <style>\n",
              "    .colab-df-container {\n",
              "      display:flex;\n",
              "      flex-wrap:wrap;\n",
              "      gap: 12px;\n",
              "    }\n",
              "\n",
              "    .colab-df-convert {\n",
              "      background-color: #E8F0FE;\n",
              "      border: none;\n",
              "      border-radius: 50%;\n",
              "      cursor: pointer;\n",
              "      display: none;\n",
              "      fill: #1967D2;\n",
              "      height: 32px;\n",
              "      padding: 0 0 0 0;\n",
              "      width: 32px;\n",
              "    }\n",
              "\n",
              "    .colab-df-convert:hover {\n",
              "      background-color: #E2EBFA;\n",
              "      box-shadow: 0px 1px 2px rgba(60, 64, 67, 0.3), 0px 1px 3px 1px rgba(60, 64, 67, 0.15);\n",
              "      fill: #174EA6;\n",
              "    }\n",
              "\n",
              "    [theme=dark] .colab-df-convert {\n",
              "      background-color: #3B4455;\n",
              "      fill: #D2E3FC;\n",
              "    }\n",
              "\n",
              "    [theme=dark] .colab-df-convert:hover {\n",
              "      background-color: #434B5C;\n",
              "      box-shadow: 0px 1px 3px 1px rgba(0, 0, 0, 0.15);\n",
              "      filter: drop-shadow(0px 1px 2px rgba(0, 0, 0, 0.3));\n",
              "      fill: #FFFFFF;\n",
              "    }\n",
              "  </style>\n",
              "\n",
              "      <script>\n",
              "        const buttonEl =\n",
              "          document.querySelector('#df-c55488da-f4ee-480f-b341-7ffc8535acbf button.colab-df-convert');\n",
              "        buttonEl.style.display =\n",
              "          google.colab.kernel.accessAllowed ? 'block' : 'none';\n",
              "\n",
              "        async function convertToInteractive(key) {\n",
              "          const element = document.querySelector('#df-c55488da-f4ee-480f-b341-7ffc8535acbf');\n",
              "          const dataTable =\n",
              "            await google.colab.kernel.invokeFunction('convertToInteractive',\n",
              "                                                     [key], {});\n",
              "          if (!dataTable) return;\n",
              "\n",
              "          const docLinkHtml = 'Like what you see? Visit the ' +\n",
              "            '<a target=\"_blank\" href=https://colab.research.google.com/notebooks/data_table.ipynb>data table notebook</a>'\n",
              "            + ' to learn more about interactive tables.';\n",
              "          element.innerHTML = '';\n",
              "          dataTable['output_type'] = 'display_data';\n",
              "          await google.colab.output.renderOutput(dataTable, element);\n",
              "          const docLink = document.createElement('div');\n",
              "          docLink.innerHTML = docLinkHtml;\n",
              "          element.appendChild(docLink);\n",
              "        }\n",
              "      </script>\n",
              "    </div>\n",
              "  </div>\n",
              "  "
            ]
          },
          "metadata": {},
          "execution_count": 8
        }
      ],
      "source": [
        "# cargar datos\n",
        "df = pd.read_csv(\"data/BC.csv\", sep=\",\")\n",
        "df['diagnosis'] = df['diagnosis'] .replace({'M':1,'B':0}) # target \n",
        "df.head()"
      ]
    },
    {
      "cell_type": "markdown",
      "metadata": {
        "id": "7e23k8815UaE"
      },
      "source": [
        "Basado en la información presentada responda las siguientes preguntas:\n",
        "\n",
        "1. Realice un análisis exploratorio del conjunto de datos.\n",
        "1. Normalizar las variables numéricas con el método **StandardScaler**.\n",
        "3. Realizar un método de reducción de dimensionalidad visto en clases.\n",
        "4. Aplique al menos tres modelos de clasificación distintos. Para cada uno de los modelos escogidos, realice una optimización de los hiperparámetros. además, calcule las respectivas métricas. Concluya.\n",
        "\n",
        "\n"
      ]
    },
    {
      "cell_type": "markdown",
      "source": [
        "1. Realice un análisis exploratorio del conjunto de datos."
      ],
      "metadata": {
        "id": "D__0-_mUKe_y"
      }
    },
    {
      "cell_type": "code",
      "source": [
        "#analisis exploratorio de los datos\n",
        "df.info()       #se ve el nombre de las columnas de este datafram y el tipo de valores que hay en ellas"
      ],
      "metadata": {
        "id": "9VJ-E2QQ79nS",
        "outputId": "bb5fb10f-a868-4dc0-b398-9b26dc080eab",
        "colab": {
          "base_uri": "https://localhost:8080/"
        }
      },
      "execution_count": null,
      "outputs": [
        {
          "output_type": "stream",
          "name": "stdout",
          "text": [
            "<class 'pandas.core.frame.DataFrame'>\n",
            "RangeIndex: 569 entries, 0 to 568\n",
            "Data columns (total 32 columns):\n",
            " #   Column                   Non-Null Count  Dtype  \n",
            "---  ------                   --------------  -----  \n",
            " 0   id                       569 non-null    int64  \n",
            " 1   diagnosis                569 non-null    int64  \n",
            " 2   radius_mean              569 non-null    float64\n",
            " 3   texture_mean             569 non-null    float64\n",
            " 4   perimeter_mean           569 non-null    float64\n",
            " 5   area_mean                569 non-null    float64\n",
            " 6   smoothness_mean          569 non-null    float64\n",
            " 7   compactness_mean         569 non-null    float64\n",
            " 8   concavity_mean           569 non-null    float64\n",
            " 9   concave points_mean      569 non-null    float64\n",
            " 10  symmetry_mean            569 non-null    float64\n",
            " 11  fractal_dimension_mean   569 non-null    float64\n",
            " 12  radius_se                569 non-null    float64\n",
            " 13  texture_se               569 non-null    float64\n",
            " 14  perimeter_se             569 non-null    float64\n",
            " 15  area_se                  569 non-null    float64\n",
            " 16  smoothness_se            569 non-null    float64\n",
            " 17  compactness_se           569 non-null    float64\n",
            " 18  concavity_se             569 non-null    float64\n",
            " 19  concave points_se        569 non-null    float64\n",
            " 20  symmetry_se              569 non-null    float64\n",
            " 21  fractal_dimension_se     569 non-null    float64\n",
            " 22  radius_worst             569 non-null    float64\n",
            " 23  texture_worst            569 non-null    float64\n",
            " 24  perimeter_worst          569 non-null    float64\n",
            " 25  area_worst               569 non-null    float64\n",
            " 26  smoothness_worst         569 non-null    float64\n",
            " 27  compactness_worst        569 non-null    float64\n",
            " 28  concavity_worst          569 non-null    float64\n",
            " 29  concave points_worst     569 non-null    float64\n",
            " 30  symmetry_worst           569 non-null    float64\n",
            " 31  fractal_dimension_worst  569 non-null    float64\n",
            "dtypes: float64(30), int64(2)\n",
            "memory usage: 142.4 KB\n"
          ]
        }
      ]
    },
    {
      "cell_type": "code",
      "source": [
        "df.isnull().sum()         #se determina el numero de valores nulos por columna"
      ],
      "metadata": {
        "id": "bVnw_83Y8vso",
        "outputId": "7e735dff-ca8c-41d4-9fee-55cbf05859c0",
        "colab": {
          "base_uri": "https://localhost:8080/"
        }
      },
      "execution_count": null,
      "outputs": [
        {
          "output_type": "execute_result",
          "data": {
            "text/plain": [
              "id                         0\n",
              "diagnosis                  0\n",
              "radius_mean                0\n",
              "texture_mean               0\n",
              "perimeter_mean             0\n",
              "area_mean                  0\n",
              "smoothness_mean            0\n",
              "compactness_mean           0\n",
              "concavity_mean             0\n",
              "concave points_mean        0\n",
              "symmetry_mean              0\n",
              "fractal_dimension_mean     0\n",
              "radius_se                  0\n",
              "texture_se                 0\n",
              "perimeter_se               0\n",
              "area_se                    0\n",
              "smoothness_se              0\n",
              "compactness_se             0\n",
              "concavity_se               0\n",
              "concave points_se          0\n",
              "symmetry_se                0\n",
              "fractal_dimension_se       0\n",
              "radius_worst               0\n",
              "texture_worst              0\n",
              "perimeter_worst            0\n",
              "area_worst                 0\n",
              "smoothness_worst           0\n",
              "compactness_worst          0\n",
              "concavity_worst            0\n",
              "concave points_worst       0\n",
              "symmetry_worst             0\n",
              "fractal_dimension_worst    0\n",
              "dtype: int64"
            ]
          },
          "metadata": {},
          "execution_count": 10
        }
      ]
    },
    {
      "cell_type": "markdown",
      "source": [
        "Se logra ver que este dataframe posee 32 columnas, las cuales contienen valores de tipo entero o flotante. Ademas, no hay datos nulos en estas columnas"
      ],
      "metadata": {
        "id": "93vwM3MO8Of4"
      }
    },
    {
      "cell_type": "code",
      "source": [
        "df.describe()"
      ],
      "metadata": {
        "id": "11IIrwGd9Qcd",
        "outputId": "3507c011-26b5-4975-bbf9-982bd8b181ab",
        "colab": {
          "base_uri": "https://localhost:8080/",
          "height": 411
        }
      },
      "execution_count": null,
      "outputs": [
        {
          "output_type": "execute_result",
          "data": {
            "text/plain": [
              "                 id   diagnosis  radius_mean  texture_mean  perimeter_mean  \\\n",
              "count  5.690000e+02  569.000000   569.000000    569.000000      569.000000   \n",
              "mean   3.037183e+07    0.372583    14.127292     19.289649       91.969033   \n",
              "std    1.250206e+08    0.483918     3.524049      4.301036       24.298981   \n",
              "min    8.670000e+03    0.000000     6.981000      9.710000       43.790000   \n",
              "25%    8.692180e+05    0.000000    11.700000     16.170000       75.170000   \n",
              "50%    9.060240e+05    0.000000    13.370000     18.840000       86.240000   \n",
              "75%    8.813129e+06    1.000000    15.780000     21.800000      104.100000   \n",
              "max    9.113205e+08    1.000000    28.110000     39.280000      188.500000   \n",
              "\n",
              "         area_mean  smoothness_mean  compactness_mean  concavity_mean  \\\n",
              "count   569.000000       569.000000        569.000000      569.000000   \n",
              "mean    654.889104         0.096360          0.104341        0.088799   \n",
              "std     351.914129         0.014064          0.052813        0.079720   \n",
              "min     143.500000         0.052630          0.019380        0.000000   \n",
              "25%     420.300000         0.086370          0.064920        0.029560   \n",
              "50%     551.100000         0.095870          0.092630        0.061540   \n",
              "75%     782.700000         0.105300          0.130400        0.130700   \n",
              "max    2501.000000         0.163400          0.345400        0.426800   \n",
              "\n",
              "       concave points_mean  ...  radius_worst  texture_worst  perimeter_worst  \\\n",
              "count           569.000000  ...    569.000000     569.000000       569.000000   \n",
              "mean              0.048919  ...     16.269190      25.677223       107.261213   \n",
              "std               0.038803  ...      4.833242       6.146258        33.602542   \n",
              "min               0.000000  ...      7.930000      12.020000        50.410000   \n",
              "25%               0.020310  ...     13.010000      21.080000        84.110000   \n",
              "50%               0.033500  ...     14.970000      25.410000        97.660000   \n",
              "75%               0.074000  ...     18.790000      29.720000       125.400000   \n",
              "max               0.201200  ...     36.040000      49.540000       251.200000   \n",
              "\n",
              "        area_worst  smoothness_worst  compactness_worst  concavity_worst  \\\n",
              "count   569.000000        569.000000         569.000000       569.000000   \n",
              "mean    880.583128          0.132369           0.254265         0.272188   \n",
              "std     569.356993          0.022832           0.157336         0.208624   \n",
              "min     185.200000          0.071170           0.027290         0.000000   \n",
              "25%     515.300000          0.116600           0.147200         0.114500   \n",
              "50%     686.500000          0.131300           0.211900         0.226700   \n",
              "75%    1084.000000          0.146000           0.339100         0.382900   \n",
              "max    4254.000000          0.222600           1.058000         1.252000   \n",
              "\n",
              "       concave points_worst  symmetry_worst  fractal_dimension_worst  \n",
              "count            569.000000      569.000000               569.000000  \n",
              "mean               0.114606        0.290076                 0.083946  \n",
              "std                0.065732        0.061867                 0.018061  \n",
              "min                0.000000        0.156500                 0.055040  \n",
              "25%                0.064930        0.250400                 0.071460  \n",
              "50%                0.099930        0.282200                 0.080040  \n",
              "75%                0.161400        0.317900                 0.092080  \n",
              "max                0.291000        0.663800                 0.207500  \n",
              "\n",
              "[8 rows x 32 columns]"
            ],
            "text/html": [
              "\n",
              "  <div id=\"df-3cddb84f-3420-49d6-bc08-ac4c3dc5214b\">\n",
              "    <div class=\"colab-df-container\">\n",
              "      <div>\n",
              "<style scoped>\n",
              "    .dataframe tbody tr th:only-of-type {\n",
              "        vertical-align: middle;\n",
              "    }\n",
              "\n",
              "    .dataframe tbody tr th {\n",
              "        vertical-align: top;\n",
              "    }\n",
              "\n",
              "    .dataframe thead th {\n",
              "        text-align: right;\n",
              "    }\n",
              "</style>\n",
              "<table border=\"1\" class=\"dataframe\">\n",
              "  <thead>\n",
              "    <tr style=\"text-align: right;\">\n",
              "      <th></th>\n",
              "      <th>id</th>\n",
              "      <th>diagnosis</th>\n",
              "      <th>radius_mean</th>\n",
              "      <th>texture_mean</th>\n",
              "      <th>perimeter_mean</th>\n",
              "      <th>area_mean</th>\n",
              "      <th>smoothness_mean</th>\n",
              "      <th>compactness_mean</th>\n",
              "      <th>concavity_mean</th>\n",
              "      <th>concave points_mean</th>\n",
              "      <th>...</th>\n",
              "      <th>radius_worst</th>\n",
              "      <th>texture_worst</th>\n",
              "      <th>perimeter_worst</th>\n",
              "      <th>area_worst</th>\n",
              "      <th>smoothness_worst</th>\n",
              "      <th>compactness_worst</th>\n",
              "      <th>concavity_worst</th>\n",
              "      <th>concave points_worst</th>\n",
              "      <th>symmetry_worst</th>\n",
              "      <th>fractal_dimension_worst</th>\n",
              "    </tr>\n",
              "  </thead>\n",
              "  <tbody>\n",
              "    <tr>\n",
              "      <th>count</th>\n",
              "      <td>5.690000e+02</td>\n",
              "      <td>569.000000</td>\n",
              "      <td>569.000000</td>\n",
              "      <td>569.000000</td>\n",
              "      <td>569.000000</td>\n",
              "      <td>569.000000</td>\n",
              "      <td>569.000000</td>\n",
              "      <td>569.000000</td>\n",
              "      <td>569.000000</td>\n",
              "      <td>569.000000</td>\n",
              "      <td>...</td>\n",
              "      <td>569.000000</td>\n",
              "      <td>569.000000</td>\n",
              "      <td>569.000000</td>\n",
              "      <td>569.000000</td>\n",
              "      <td>569.000000</td>\n",
              "      <td>569.000000</td>\n",
              "      <td>569.000000</td>\n",
              "      <td>569.000000</td>\n",
              "      <td>569.000000</td>\n",
              "      <td>569.000000</td>\n",
              "    </tr>\n",
              "    <tr>\n",
              "      <th>mean</th>\n",
              "      <td>3.037183e+07</td>\n",
              "      <td>0.372583</td>\n",
              "      <td>14.127292</td>\n",
              "      <td>19.289649</td>\n",
              "      <td>91.969033</td>\n",
              "      <td>654.889104</td>\n",
              "      <td>0.096360</td>\n",
              "      <td>0.104341</td>\n",
              "      <td>0.088799</td>\n",
              "      <td>0.048919</td>\n",
              "      <td>...</td>\n",
              "      <td>16.269190</td>\n",
              "      <td>25.677223</td>\n",
              "      <td>107.261213</td>\n",
              "      <td>880.583128</td>\n",
              "      <td>0.132369</td>\n",
              "      <td>0.254265</td>\n",
              "      <td>0.272188</td>\n",
              "      <td>0.114606</td>\n",
              "      <td>0.290076</td>\n",
              "      <td>0.083946</td>\n",
              "    </tr>\n",
              "    <tr>\n",
              "      <th>std</th>\n",
              "      <td>1.250206e+08</td>\n",
              "      <td>0.483918</td>\n",
              "      <td>3.524049</td>\n",
              "      <td>4.301036</td>\n",
              "      <td>24.298981</td>\n",
              "      <td>351.914129</td>\n",
              "      <td>0.014064</td>\n",
              "      <td>0.052813</td>\n",
              "      <td>0.079720</td>\n",
              "      <td>0.038803</td>\n",
              "      <td>...</td>\n",
              "      <td>4.833242</td>\n",
              "      <td>6.146258</td>\n",
              "      <td>33.602542</td>\n",
              "      <td>569.356993</td>\n",
              "      <td>0.022832</td>\n",
              "      <td>0.157336</td>\n",
              "      <td>0.208624</td>\n",
              "      <td>0.065732</td>\n",
              "      <td>0.061867</td>\n",
              "      <td>0.018061</td>\n",
              "    </tr>\n",
              "    <tr>\n",
              "      <th>min</th>\n",
              "      <td>8.670000e+03</td>\n",
              "      <td>0.000000</td>\n",
              "      <td>6.981000</td>\n",
              "      <td>9.710000</td>\n",
              "      <td>43.790000</td>\n",
              "      <td>143.500000</td>\n",
              "      <td>0.052630</td>\n",
              "      <td>0.019380</td>\n",
              "      <td>0.000000</td>\n",
              "      <td>0.000000</td>\n",
              "      <td>...</td>\n",
              "      <td>7.930000</td>\n",
              "      <td>12.020000</td>\n",
              "      <td>50.410000</td>\n",
              "      <td>185.200000</td>\n",
              "      <td>0.071170</td>\n",
              "      <td>0.027290</td>\n",
              "      <td>0.000000</td>\n",
              "      <td>0.000000</td>\n",
              "      <td>0.156500</td>\n",
              "      <td>0.055040</td>\n",
              "    </tr>\n",
              "    <tr>\n",
              "      <th>25%</th>\n",
              "      <td>8.692180e+05</td>\n",
              "      <td>0.000000</td>\n",
              "      <td>11.700000</td>\n",
              "      <td>16.170000</td>\n",
              "      <td>75.170000</td>\n",
              "      <td>420.300000</td>\n",
              "      <td>0.086370</td>\n",
              "      <td>0.064920</td>\n",
              "      <td>0.029560</td>\n",
              "      <td>0.020310</td>\n",
              "      <td>...</td>\n",
              "      <td>13.010000</td>\n",
              "      <td>21.080000</td>\n",
              "      <td>84.110000</td>\n",
              "      <td>515.300000</td>\n",
              "      <td>0.116600</td>\n",
              "      <td>0.147200</td>\n",
              "      <td>0.114500</td>\n",
              "      <td>0.064930</td>\n",
              "      <td>0.250400</td>\n",
              "      <td>0.071460</td>\n",
              "    </tr>\n",
              "    <tr>\n",
              "      <th>50%</th>\n",
              "      <td>9.060240e+05</td>\n",
              "      <td>0.000000</td>\n",
              "      <td>13.370000</td>\n",
              "      <td>18.840000</td>\n",
              "      <td>86.240000</td>\n",
              "      <td>551.100000</td>\n",
              "      <td>0.095870</td>\n",
              "      <td>0.092630</td>\n",
              "      <td>0.061540</td>\n",
              "      <td>0.033500</td>\n",
              "      <td>...</td>\n",
              "      <td>14.970000</td>\n",
              "      <td>25.410000</td>\n",
              "      <td>97.660000</td>\n",
              "      <td>686.500000</td>\n",
              "      <td>0.131300</td>\n",
              "      <td>0.211900</td>\n",
              "      <td>0.226700</td>\n",
              "      <td>0.099930</td>\n",
              "      <td>0.282200</td>\n",
              "      <td>0.080040</td>\n",
              "    </tr>\n",
              "    <tr>\n",
              "      <th>75%</th>\n",
              "      <td>8.813129e+06</td>\n",
              "      <td>1.000000</td>\n",
              "      <td>15.780000</td>\n",
              "      <td>21.800000</td>\n",
              "      <td>104.100000</td>\n",
              "      <td>782.700000</td>\n",
              "      <td>0.105300</td>\n",
              "      <td>0.130400</td>\n",
              "      <td>0.130700</td>\n",
              "      <td>0.074000</td>\n",
              "      <td>...</td>\n",
              "      <td>18.790000</td>\n",
              "      <td>29.720000</td>\n",
              "      <td>125.400000</td>\n",
              "      <td>1084.000000</td>\n",
              "      <td>0.146000</td>\n",
              "      <td>0.339100</td>\n",
              "      <td>0.382900</td>\n",
              "      <td>0.161400</td>\n",
              "      <td>0.317900</td>\n",
              "      <td>0.092080</td>\n",
              "    </tr>\n",
              "    <tr>\n",
              "      <th>max</th>\n",
              "      <td>9.113205e+08</td>\n",
              "      <td>1.000000</td>\n",
              "      <td>28.110000</td>\n",
              "      <td>39.280000</td>\n",
              "      <td>188.500000</td>\n",
              "      <td>2501.000000</td>\n",
              "      <td>0.163400</td>\n",
              "      <td>0.345400</td>\n",
              "      <td>0.426800</td>\n",
              "      <td>0.201200</td>\n",
              "      <td>...</td>\n",
              "      <td>36.040000</td>\n",
              "      <td>49.540000</td>\n",
              "      <td>251.200000</td>\n",
              "      <td>4254.000000</td>\n",
              "      <td>0.222600</td>\n",
              "      <td>1.058000</td>\n",
              "      <td>1.252000</td>\n",
              "      <td>0.291000</td>\n",
              "      <td>0.663800</td>\n",
              "      <td>0.207500</td>\n",
              "    </tr>\n",
              "  </tbody>\n",
              "</table>\n",
              "<p>8 rows × 32 columns</p>\n",
              "</div>\n",
              "      <button class=\"colab-df-convert\" onclick=\"convertToInteractive('df-3cddb84f-3420-49d6-bc08-ac4c3dc5214b')\"\n",
              "              title=\"Convert this dataframe to an interactive table.\"\n",
              "              style=\"display:none;\">\n",
              "        \n",
              "  <svg xmlns=\"http://www.w3.org/2000/svg\" height=\"24px\"viewBox=\"0 0 24 24\"\n",
              "       width=\"24px\">\n",
              "    <path d=\"M0 0h24v24H0V0z\" fill=\"none\"/>\n",
              "    <path d=\"M18.56 5.44l.94 2.06.94-2.06 2.06-.94-2.06-.94-.94-2.06-.94 2.06-2.06.94zm-11 1L8.5 8.5l.94-2.06 2.06-.94-2.06-.94L8.5 2.5l-.94 2.06-2.06.94zm10 10l.94 2.06.94-2.06 2.06-.94-2.06-.94-.94-2.06-.94 2.06-2.06.94z\"/><path d=\"M17.41 7.96l-1.37-1.37c-.4-.4-.92-.59-1.43-.59-.52 0-1.04.2-1.43.59L10.3 9.45l-7.72 7.72c-.78.78-.78 2.05 0 2.83L4 21.41c.39.39.9.59 1.41.59.51 0 1.02-.2 1.41-.59l7.78-7.78 2.81-2.81c.8-.78.8-2.07 0-2.86zM5.41 20L4 18.59l7.72-7.72 1.47 1.35L5.41 20z\"/>\n",
              "  </svg>\n",
              "      </button>\n",
              "      \n",
              "  <style>\n",
              "    .colab-df-container {\n",
              "      display:flex;\n",
              "      flex-wrap:wrap;\n",
              "      gap: 12px;\n",
              "    }\n",
              "\n",
              "    .colab-df-convert {\n",
              "      background-color: #E8F0FE;\n",
              "      border: none;\n",
              "      border-radius: 50%;\n",
              "      cursor: pointer;\n",
              "      display: none;\n",
              "      fill: #1967D2;\n",
              "      height: 32px;\n",
              "      padding: 0 0 0 0;\n",
              "      width: 32px;\n",
              "    }\n",
              "\n",
              "    .colab-df-convert:hover {\n",
              "      background-color: #E2EBFA;\n",
              "      box-shadow: 0px 1px 2px rgba(60, 64, 67, 0.3), 0px 1px 3px 1px rgba(60, 64, 67, 0.15);\n",
              "      fill: #174EA6;\n",
              "    }\n",
              "\n",
              "    [theme=dark] .colab-df-convert {\n",
              "      background-color: #3B4455;\n",
              "      fill: #D2E3FC;\n",
              "    }\n",
              "\n",
              "    [theme=dark] .colab-df-convert:hover {\n",
              "      background-color: #434B5C;\n",
              "      box-shadow: 0px 1px 3px 1px rgba(0, 0, 0, 0.15);\n",
              "      filter: drop-shadow(0px 1px 2px rgba(0, 0, 0, 0.3));\n",
              "      fill: #FFFFFF;\n",
              "    }\n",
              "  </style>\n",
              "\n",
              "      <script>\n",
              "        const buttonEl =\n",
              "          document.querySelector('#df-3cddb84f-3420-49d6-bc08-ac4c3dc5214b button.colab-df-convert');\n",
              "        buttonEl.style.display =\n",
              "          google.colab.kernel.accessAllowed ? 'block' : 'none';\n",
              "\n",
              "        async function convertToInteractive(key) {\n",
              "          const element = document.querySelector('#df-3cddb84f-3420-49d6-bc08-ac4c3dc5214b');\n",
              "          const dataTable =\n",
              "            await google.colab.kernel.invokeFunction('convertToInteractive',\n",
              "                                                     [key], {});\n",
              "          if (!dataTable) return;\n",
              "\n",
              "          const docLinkHtml = 'Like what you see? Visit the ' +\n",
              "            '<a target=\"_blank\" href=https://colab.research.google.com/notebooks/data_table.ipynb>data table notebook</a>'\n",
              "            + ' to learn more about interactive tables.';\n",
              "          element.innerHTML = '';\n",
              "          dataTable['output_type'] = 'display_data';\n",
              "          await google.colab.output.renderOutput(dataTable, element);\n",
              "          const docLink = document.createElement('div');\n",
              "          docLink.innerHTML = docLinkHtml;\n",
              "          element.appendChild(docLink);\n",
              "        }\n",
              "      </script>\n",
              "    </div>\n",
              "  </div>\n",
              "  "
            ]
          },
          "metadata": {},
          "execution_count": 11
        }
      ]
    },
    {
      "cell_type": "markdown",
      "source": [
        "Gracias a la tabla anterior, se puede ver una descripcion de los datos estadisticos de las columnas de este df. Ahora veamos la distribucion de los datos de cada una de estas columnas. Para ello, se haran graficos de barras con las columnas con datos enteros e histogramas con las columnas con datos flotantes, sin consideraer la columna id pues solo es unmero d eidentificacion d elos pacientes y no aporta informacion sobre la presencia de cancer en un paciente."
      ],
      "metadata": {
        "id": "g4m8dVx79ZL7"
      }
    },
    {
      "cell_type": "code",
      "source": [
        "#distribucion de la columna diagnosis\n",
        "grupo_diagnosis= df.groupby('diagnosis').apply(lambda x: len(x)).reset_index()\n",
        "grupo_diagnosis.columns= ['diagnosis', 'count']\n",
        "sns.barplot(x= 'diagnosis', y= 'count', data= grupo_diagnosis)\n",
        "plt.title('garfico de barra de la columna diagnosis')\n",
        "plt.show()"
      ],
      "metadata": {
        "id": "yf_Urolc-Dkk",
        "outputId": "9acb49bd-80cb-40d9-d525-7fe33d765900",
        "colab": {
          "base_uri": "https://localhost:8080/",
          "height": 533
        }
      },
      "execution_count": null,
      "outputs": [
        {
          "output_type": "display_data",
          "data": {
            "text/plain": [
              "<Figure size 842.4x595.44 with 1 Axes>"
            ],
            "image/png": "[encoded data removed]"
          },
          "metadata": {}
        }
      ]
    },
    {
      "cell_type": "code",
      "source": [
        "#distribucion de la columna radius_mean\n",
        "sns.histplot(df.radius_mean)\n",
        "plt.title(\"histograma de la columna radius_mean\")\n",
        "plt.show()"
      ],
      "metadata": {
        "id": "faqvvPDOBKm4",
        "outputId": "6b000fbb-5048-45c7-cb0c-8f9acfa62ba1",
        "colab": {
          "base_uri": "https://localhost:8080/",
          "height": 533
        }
      },
      "execution_count": null,
      "outputs": [
        {
          "output_type": "display_data",
          "data": {
            "text/plain": [
              "<Figure size 842.4x595.44 with 1 Axes>"
            ],
            "image/png": "[encoded data removed]"
          },
          "metadata": {}
        }
      ]
    },
    {
      "cell_type": "code",
      "source": [
        "#distribucion de la columna texture_mean\n",
        "sns.histplot(df.texture_mean)\n",
        "plt.title(\"histograma de la columna texture_mean\")\n",
        "plt.show()"
      ],
      "metadata": {
        "id": "r8WG2vy5CAwj",
        "outputId": "e9b06519-786d-4bab-debb-682df2ce5283",
        "colab": {
          "base_uri": "https://localhost:8080/",
          "height": 533
        }
      },
      "execution_count": null,
      "outputs": [
        {
          "output_type": "display_data",
          "data": {
            "text/plain": [
              "<Figure size 842.4x595.44 with 1 Axes>"
            ],
            "image/png": "[encoded data removed]"
          },
          "metadata": {}
        }
      ]
    },
    {
      "cell_type": "code",
      "source": [
        "#distribucion de la columna perimeter_mean\n",
        "sns.histplot(df.perimeter_mean)\n",
        "plt.title(\"histograma de la columna perimeter_mean\")\n",
        "plt.show()"
      ],
      "metadata": {
        "id": "5atqhW91CI2x",
        "outputId": "c699ed7c-4f44-4f20-cf9c-230c4da6319f",
        "colab": {
          "base_uri": "https://localhost:8080/",
          "height": 533
        }
      },
      "execution_count": null,
      "outputs": [
        {
          "output_type": "display_data",
          "data": {
            "text/plain": [
              "<Figure size 842.4x595.44 with 1 Axes>"
            ],
            "image/png": "[encoded data removed]"
          },
          "metadata": {}
        }
      ]
    },
    {
      "cell_type": "code",
      "source": [
        "#distribucion de la columna area_mean\n",
        "sns.histplot(df.area_mean)\n",
        "plt.title(\"histograma de la columna area_mean\")\n",
        "plt.show()"
      ],
      "metadata": {
        "id": "u2IkThcFCU4c",
        "outputId": "d03b699c-b6c7-4248-beab-18847bd2bcb4",
        "colab": {
          "base_uri": "https://localhost:8080/",
          "height": 533
        }
      },
      "execution_count": null,
      "outputs": [
        {
          "output_type": "display_data",
          "data": {
            "text/plain": [
              "<Figure size 842.4x595.44 with 1 Axes>"
            ],
            "image/png": "[encoded data removed]"
          },
          "metadata": {}
        }
      ]
    },
    {
      "cell_type": "code",
      "source": [
        "#distribucion de la columna smoothness_mean\n",
        "sns.histplot(df.smoothness_mean)\n",
        "plt.title(\"histograma de la columna smoothness_mean\")\n",
        "plt.show()"
      ],
      "metadata": {
        "id": "xKUyosIzCsCi",
        "outputId": "0395e4e8-de25-41d1-8689-c1abee779617",
        "colab": {
          "base_uri": "https://localhost:8080/",
          "height": 533
        }
      },
      "execution_count": null,
      "outputs": [
        {
          "output_type": "display_data",
          "data": {
            "text/plain": [
              "<Figure size 842.4x595.44 with 1 Axes>"
            ],
            "image/png": "[encoded data removed]"
          },
          "metadata": {}
        }
      ]
    },
    {
      "cell_type": "code",
      "source": [
        "#distribucion de la columna compactness_mean\n",
        "sns.histplot(df.compactness_mean)\n",
        "plt.title(\"histograma de la columna compacteness_mean\")\n",
        "plt.show()"
      ],
      "metadata": {
        "id": "KknhNRKHC5bO",
        "outputId": "e214c061-d5b4-4516-8f8c-b2694f701312",
        "colab": {
          "base_uri": "https://localhost:8080/",
          "height": 533
        }
      },
      "execution_count": null,
      "outputs": [
        {
          "output_type": "display_data",
          "data": {
            "text/plain": [
              "<Figure size 842.4x595.44 with 1 Axes>"
            ],
            "image/png": "[encoded data removed]"
          },
          "metadata": {}
        }
      ]
    },
    {
      "cell_type": "code",
      "source": [
        "#distribucion de la columna concavity_mean\n",
        "sns.histplot(df.concavity_mean)\n",
        "plt.title(\"histograma de la columna concavity_mean\")\n",
        "plt.show()"
      ],
      "metadata": {
        "id": "stZ7GaDsDDVc",
        "outputId": "68aab2c2-0eed-4f8a-f388-343bfa06e359",
        "colab": {
          "base_uri": "https://localhost:8080/",
          "height": 533
        }
      },
      "execution_count": null,
      "outputs": [
        {
          "output_type": "display_data",
          "data": {
            "text/plain": [
              "<Figure size 842.4x595.44 with 1 Axes>"
            ],
            "image/png": "[encoded data removed]"
          },
          "metadata": {}
        }
      ]
    },
    {
      "cell_type": "code",
      "source": [
        "#distribucion de la columna concave points_mean\n",
        "sns.histplot(df['concave points_mean'])\n",
        "plt.title(\"histograma de la columna concave points_mean\")\n",
        "plt.show()"
      ],
      "metadata": {
        "id": "EVTUiCEyDVGd",
        "outputId": "32226545-c95b-49ff-e44b-b63434ac67dd",
        "colab": {
          "base_uri": "https://localhost:8080/",
          "height": 533
        }
      },
      "execution_count": null,
      "outputs": [
        {
          "output_type": "display_data",
          "data": {
            "text/plain": [
              "<Figure size 842.4x595.44 with 1 Axes>"
            ],
            "image/png": "[encoded data removed]"
          },
          "metadata": {}
        }
      ]
    },
    {
      "cell_type": "code",
      "source": [
        "#distribucion de la columna symmetry_mean\n",
        "sns.histplot(df.symmetry_mean)\n",
        "plt.title(\"histograma de la columna symmetry_mean\")\n",
        "plt.show()"
      ],
      "metadata": {
        "id": "KqnkQGvRDvPJ",
        "outputId": "efa7cb8a-3c03-49e0-dc97-6aa041495413",
        "colab": {
          "base_uri": "https://localhost:8080/",
          "height": 533
        }
      },
      "execution_count": null,
      "outputs": [
        {
          "output_type": "display_data",
          "data": {
            "text/plain": [
              "<Figure size 842.4x595.44 with 1 Axes>"
            ],
            "image/png": "[encoded data removed]"
          },
          "metadata": {}
        }
      ]
    },
    {
      "cell_type": "code",
      "source": [
        "#distribucion de la columna fractal_dimension_mean\n",
        "sns.histplot(df.fractal_dimension_mean)\n",
        "plt.title(\"histograma de la columna fractal_dimension_mean\")\n",
        "plt.show()"
      ],
      "metadata": {
        "id": "NIyRaBhDD6_N",
        "outputId": "c3c793d3-378b-45e4-f1cf-b4b1dbc7d99b",
        "colab": {
          "base_uri": "https://localhost:8080/",
          "height": 533
        }
      },
      "execution_count": null,
      "outputs": [
        {
          "output_type": "display_data",
          "data": {
            "text/plain": [
              "<Figure size 842.4x595.44 with 1 Axes>"
            ],
            "image/png": "[encoded data removed]"
          },
          "metadata": {}
        }
      ]
    },
    {
      "cell_type": "code",
      "source": [
        "#distribucion de la columna radius_se\n",
        "sns.histplot(df.radius_se)\n",
        "plt.title(\"histograma de la columna radius_se\")\n",
        "plt.show()"
      ],
      "metadata": {
        "id": "zYgG-kPdEKa-",
        "outputId": "08a0c891-8e98-4576-e957-9ac694c0dd00",
        "colab": {
          "base_uri": "https://localhost:8080/",
          "height": 533
        }
      },
      "execution_count": null,
      "outputs": [
        {
          "output_type": "display_data",
          "data": {
            "text/plain": [
              "<Figure size 842.4x595.44 with 1 Axes>"
            ],
            "image/png": "[encoded data removed]"
          },
          "metadata": {}
        }
      ]
    },
    {
      "cell_type": "code",
      "source": [
        "#distribucion de la columna texture_se\n",
        "sns.histplot(df.texture_se)\n",
        "plt.title(\"histograma de la columna texture_se\")\n",
        "plt.show()"
      ],
      "metadata": {
        "id": "JgFfoLyoETKn",
        "outputId": "572552af-9457-49f4-c761-c77d82c10969",
        "colab": {
          "base_uri": "https://localhost:8080/",
          "height": 533
        }
      },
      "execution_count": null,
      "outputs": [
        {
          "output_type": "display_data",
          "data": {
            "text/plain": [
              "<Figure size 842.4x595.44 with 1 Axes>"
            ],
            "image/png": "[encoded data removed]"
          },
          "metadata": {}
        }
      ]
    },
    {
      "cell_type": "code",
      "source": [
        "#distribucion de la columna perimeter_se\n",
        "sns.histplot(df.perimeter_se)\n",
        "plt.title(\"histograma de la columna perimeter_se\")\n",
        "plt.show()"
      ],
      "metadata": {
        "id": "kilragIvEgpw",
        "outputId": "8d93e270-4bef-4a68-9f73-141f0fcb432f",
        "colab": {
          "base_uri": "https://localhost:8080/",
          "height": 533
        }
      },
      "execution_count": null,
      "outputs": [
        {
          "output_type": "display_data",
          "data": {
            "text/plain": [
              "<Figure size 842.4x595.44 with 1 Axes>"
            ],
            "image/png": "[encoded data removed]"
          },
          "metadata": {}
        }
      ]
    },
    {
      "cell_type": "code",
      "source": [
        "#distribucion de la columna area_se\n",
        "sns.histplot(df.area_se)\n",
        "plt.title(\"histograma de la columna area_se\")\n",
        "plt.show()"
      ],
      "metadata": {
        "id": "-lpYlk2PEoHH",
        "outputId": "f7cc40a5-6fff-4fc3-b140-34e5802635fb",
        "colab": {
          "base_uri": "https://localhost:8080/",
          "height": 533
        }
      },
      "execution_count": null,
      "outputs": [
        {
          "output_type": "display_data",
          "data": {
            "text/plain": [
              "<Figure size 842.4x595.44 with 1 Axes>"
            ],
            "image/png": "[encoded data removed]"
          },
          "metadata": {}
        }
      ]
    },
    {
      "cell_type": "code",
      "source": [
        "#distribucion de la columna smoothness_se\n",
        "sns.histplot(df.smoothness_se)\n",
        "plt.title(\"histograma de la columna smoothness_se\")\n",
        "plt.show()"
      ],
      "metadata": {
        "id": "-d0PziuvEuQO",
        "outputId": "3eee277b-21ad-4f36-ed69-d06d1c3a75c1",
        "colab": {
          "base_uri": "https://localhost:8080/",
          "height": 533
        }
      },
      "execution_count": null,
      "outputs": [
        {
          "output_type": "display_data",
          "data": {
            "text/plain": [
              "<Figure size 842.4x595.44 with 1 Axes>"
            ],
            "image/png": "[encoded data removed]"
          },
          "metadata": {}
        }
      ]
    },
    {
      "cell_type": "code",
      "source": [
        "#distribucion de la columna compactness_se\n",
        "sns.histplot(df.compactness_se)\n",
        "plt.title(\"histograma de la columna compactness_se\")\n",
        "plt.show()"
      ],
      "metadata": {
        "id": "Rx_PFdZHE5wH",
        "outputId": "a33275fd-cda3-418a-fa3d-9d9d0c8abb2e",
        "colab": {
          "base_uri": "https://localhost:8080/",
          "height": 533
        }
      },
      "execution_count": null,
      "outputs": [
        {
          "output_type": "display_data",
          "data": {
            "text/plain": [
              "<Figure size 842.4x595.44 with 1 Axes>"
            ],
            "image/png": "[encoded data removed]"
          },
          "metadata": {}
        }
      ]
    },
    {
      "cell_type": "code",
      "source": [
        "#distribucion de la columna concavity_se\n",
        "sns.histplot(df.concavity_se)\n",
        "plt.title(\"histograma de la columna concavity_se\")\n",
        "plt.show()"
      ],
      "metadata": {
        "id": "-J7oFpjfFFS5",
        "outputId": "cc74693b-e9fe-47c4-f465-aa3b2dab057a",
        "colab": {
          "base_uri": "https://localhost:8080/",
          "height": 533
        }
      },
      "execution_count": null,
      "outputs": [
        {
          "output_type": "display_data",
          "data": {
            "text/plain": [
              "<Figure size 842.4x595.44 with 1 Axes>"
            ],
            "image/png": "[encoded data removed]"
          },
          "metadata": {}
        }
      ]
    },
    {
      "cell_type": "code",
      "source": [
        "#distribucion de la columna concave points_se\n",
        "sns.histplot(df['concave points_se'])\n",
        "plt.title(\"histograma de la columna concave points_se\")\n",
        "plt.show()"
      ],
      "metadata": {
        "id": "zndg_uvAFOx6",
        "outputId": "160428d8-9d45-4881-a6c9-e1793ed2a985",
        "colab": {
          "base_uri": "https://localhost:8080/",
          "height": 533
        }
      },
      "execution_count": null,
      "outputs": [
        {
          "output_type": "display_data",
          "data": {
            "text/plain": [
              "<Figure size 842.4x595.44 with 1 Axes>"
            ],
            "image/png": "[encoded data removed]"
          },
          "metadata": {}
        }
      ]
    },
    {
      "cell_type": "code",
      "source": [
        "#distribucion de la columna symmetry_se\n",
        "sns.histplot(df.symmetry_se)\n",
        "plt.title(\"histograma de la columna symmetry_se\")\n",
        "plt.show()"
      ],
      "metadata": {
        "id": "JO3qacGYFemR",
        "outputId": "85fe20c9-2a2b-4c12-9931-527503040d21",
        "colab": {
          "base_uri": "https://localhost:8080/",
          "height": 533
        }
      },
      "execution_count": null,
      "outputs": [
        {
          "output_type": "display_data",
          "data": {
            "text/plain": [
              "<Figure size 842.4x595.44 with 1 Axes>"
            ],
            "image/png": "[encoded data removed]"
          },
          "metadata": {}
        }
      ]
    },
    {
      "cell_type": "code",
      "source": [
        "#distribucion de la columna fractal_dimension_se\n",
        "sns.histplot(df.fractal_dimension_se)\n",
        "plt.title(\"histograma de la columna fractal_dimension_se\")\n",
        "plt.show()"
      ],
      "metadata": {
        "id": "xvfF1599FoPZ",
        "outputId": "3fa50c7f-ea3e-4d84-bd68-41c443279db3",
        "colab": {
          "base_uri": "https://localhost:8080/",
          "height": 533
        }
      },
      "execution_count": null,
      "outputs": [
        {
          "output_type": "display_data",
          "data": {
            "text/plain": [
              "<Figure size 842.4x595.44 with 1 Axes>"
            ],
            "image/png": "[encoded data removed]"
          },
          "metadata": {}
        }
      ]
    },
    {
      "cell_type": "code",
      "source": [
        "#distribucion de la columna radius_worst\n",
        "sns.histplot(df.radius_worst)\n",
        "plt.title(\"histograma de la columna radius_worst\")\n",
        "plt.show()"
      ],
      "metadata": {
        "id": "NV2ubkh9GywJ",
        "outputId": "70fce7f4-8b5a-4902-fbef-674a65ad2f4f",
        "colab": {
          "base_uri": "https://localhost:8080/",
          "height": 533
        }
      },
      "execution_count": null,
      "outputs": [
        {
          "output_type": "display_data",
          "data": {
            "text/plain": [
              "<Figure size 842.4x595.44 with 1 Axes>"
            ],
            "image/png": "[encoded data removed]"
          },
          "metadata": {}
        }
      ]
    },
    {
      "cell_type": "code",
      "source": [
        "#distribucion de la columna texture_worst\n",
        "sns.histplot(df.texture_worst)\n",
        "plt.title(\"histograma de la columna texture_worst\")\n",
        "plt.show()"
      ],
      "metadata": {
        "id": "N2qkPWTDGyZD",
        "outputId": "26d59d18-70df-4f53-cb23-fa4d21d03751",
        "colab": {
          "base_uri": "https://localhost:8080/",
          "height": 533
        }
      },
      "execution_count": null,
      "outputs": [
        {
          "output_type": "display_data",
          "data": {
            "text/plain": [
              "<Figure size 842.4x595.44 with 1 Axes>"
            ],
            "image/png": "[encoded data removed]"
          },
          "metadata": {}
        }
      ]
    },
    {
      "cell_type": "code",
      "source": [
        "#distribucion de la columna perimeter_worst\n",
        "sns.histplot(df.perimeter_worst)\n",
        "plt.title(\"histograma de la columna perimeter_worst\")\n",
        "plt.show()"
      ],
      "metadata": {
        "id": "abeov59tHJMy",
        "outputId": "edd4c380-1eb2-42e4-846f-89d97157ebd1",
        "colab": {
          "base_uri": "https://localhost:8080/",
          "height": 533
        }
      },
      "execution_count": null,
      "outputs": [
        {
          "output_type": "display_data",
          "data": {
            "text/plain": [
              "<Figure size 842.4x595.44 with 1 Axes>"
            ],
            "image/png": "[encoded data removed]"
          },
          "metadata": {}
        }
      ]
    },
    {
      "cell_type": "code",
      "source": [
        "#distribucion de la columna area_worst\n",
        "sns.histplot(df.area_worst)\n",
        "plt.title(\"histograma de la columna area_worst\")\n",
        "plt.show()"
      ],
      "metadata": {
        "id": "gAtY4wlmHV98",
        "outputId": "a5f4feca-b4dc-4cdd-ca49-d144ea4cbcb2",
        "colab": {
          "base_uri": "https://localhost:8080/",
          "height": 533
        }
      },
      "execution_count": null,
      "outputs": [
        {
          "output_type": "display_data",
          "data": {
            "text/plain": [
              "<Figure size 842.4x595.44 with 1 Axes>"
            ],
            "image/png": "[encoded data removed]"
          },
          "metadata": {}
        }
      ]
    },
    {
      "cell_type": "code",
      "source": [
        "#distribucion de la columna smoothness_worst\n",
        "sns.histplot(df.smoothness_worst)\n",
        "plt.title(\"histograma de la columna smoothness_worst\")\n",
        "plt.show()"
      ],
      "metadata": {
        "id": "9iW0jUbGHcwK",
        "outputId": "e38fe8bf-c10c-48d1-eda7-f33227ee5e88",
        "colab": {
          "base_uri": "https://localhost:8080/",
          "height": 533
        }
      },
      "execution_count": null,
      "outputs": [
        {
          "output_type": "display_data",
          "data": {
            "text/plain": [
              "<Figure size 842.4x595.44 with 1 Axes>"
            ],
            "image/png": "[encoded data removed]"
          },
          "metadata": {}
        }
      ]
    },
    {
      "cell_type": "code",
      "source": [
        "#distribucion de la columna compactness_worst\n",
        "sns.histplot(df.compactness_worst)\n",
        "plt.title(\"histograma de la columna compactness_worst\")\n",
        "plt.show()"
      ],
      "metadata": {
        "id": "RWr8K2mnHpoP",
        "outputId": "c25e0579-4f5e-4965-ff9f-fd786753c238",
        "colab": {
          "base_uri": "https://localhost:8080/",
          "height": 533
        }
      },
      "execution_count": null,
      "outputs": [
        {
          "output_type": "display_data",
          "data": {
            "text/plain": [
              "<Figure size 842.4x595.44 with 1 Axes>"
            ],
            "image/png": "[encoded data removed]"
          },
          "metadata": {}
        }
      ]
    },
    {
      "cell_type": "code",
      "source": [
        "#distribucion de la columna concavity_worst\n",
        "sns.histplot(df.concavity_worst)\n",
        "plt.title(\"histograma de la columna concavity_worst\")\n",
        "plt.show()"
      ],
      "metadata": {
        "id": "Ja4oWwi2Hy5E",
        "outputId": "fd4ef47f-3f47-4255-9711-5a8c7a127263",
        "colab": {
          "base_uri": "https://localhost:8080/",
          "height": 533
        }
      },
      "execution_count": null,
      "outputs": [
        {
          "output_type": "display_data",
          "data": {
            "text/plain": [
              "<Figure size 842.4x595.44 with 1 Axes>"
            ],
            "image/png": "[encoded data removed]"
          },
          "metadata": {}
        }
      ]
    },
    {
      "cell_type": "code",
      "source": [
        "#distribucion de la columna concave points_worst\n",
        "sns.histplot(df['concave points_worst'])\n",
        "plt.title(\"histograma de la columna concave points_worst\")\n",
        "plt.show()"
      ],
      "metadata": {
        "id": "tqS_WLMWI2Mf",
        "outputId": "a980991b-6e9e-4341-d445-37f07418323c",
        "colab": {
          "base_uri": "https://localhost:8080/",
          "height": 533
        }
      },
      "execution_count": null,
      "outputs": [
        {
          "output_type": "display_data",
          "data": {
            "text/plain": [
              "<Figure size 842.4x595.44 with 1 Axes>"
            ],
            "image/png": "[encoded data removed]"
          },
          "metadata": {}
        }
      ]
    },
    {
      "cell_type": "code",
      "source": [
        "#distribucion de la columna symmetry_worst\n",
        "sns.histplot(df.symmetry_worst)\n",
        "plt.title(\"histograma de la columna symmetry_worst\")\n",
        "plt.show()"
      ],
      "metadata": {
        "id": "Z59fH_QdJLWg",
        "outputId": "08e5a563-af71-45df-dc75-a0d81024bac1",
        "colab": {
          "base_uri": "https://localhost:8080/",
          "height": 533
        }
      },
      "execution_count": null,
      "outputs": [
        {
          "output_type": "display_data",
          "data": {
            "text/plain": [
              "<Figure size 842.4x595.44 with 1 Axes>"
            ],
            "image/png": "[encoded data removed]"
          },
          "metadata": {}
        }
      ]
    },
    {
      "cell_type": "code",
      "source": [
        "#distribucion de la columna fractal_dimension_worst\n",
        "sns.histplot(df.fractal_dimension_worst)\n",
        "plt.title(\"histograma de la columna fractal_dimension_worst\")\n",
        "plt.show()"
      ],
      "metadata": {
        "id": "iS9hHipAJTfO",
        "outputId": "fa57023c-5f85-4982-fc0d-509f4cc02d8b",
        "colab": {
          "base_uri": "https://localhost:8080/",
          "height": 533
        }
      },
      "execution_count": null,
      "outputs": [
        {
          "output_type": "display_data",
          "data": {
            "text/plain": [
              "<Figure size 842.4x595.44 with 1 Axes>"
            ],
            "image/png": "[encoded data removed]"
          },
          "metadata": {}
        }
      ]
    },
    {
      "cell_type": "markdown",
      "source": [
        "Gracias al grafico de barras de diagnosis, se logra ver que los datos de este dataframe son desbalanceados y hay pocos datos de diagnoticos con pacientes con cancer. Tambien, gracias a los histogramas se ve que la mayoria de los datos tiene una distribucion parecida a la normal y la mayoria de los histogramas tienen un sesgo positivo."
      ],
      "metadata": {
        "id": "K7C9A-9TJeSQ"
      }
    },
    {
      "cell_type": "markdown",
      "source": [
        "2. Normalizar las variables numéricas con el método StandardScaler\n",
        "3. Realizar un método de reducción de dimensionalidad visto en clases."
      ],
      "metadata": {
        "id": "eLPDMChAK5kp"
      }
    },
    {
      "cell_type": "code",
      "source": [
        "from sklearn.pipeline import make_pipeline\n",
        "\n",
        "new_df=df.copy\n",
        "new_df= df.drop(['id', 'diagnosis'], axis=1)\n",
        "columnas=new_df.columns\n",
        "scaler= StandardScaler()\n",
        "new_df= scaler.fit_transform(new_df)\n",
        "new_df= pd.DataFrame(new_df, columns= columnas)\n",
        "new_df\n"
      ],
      "metadata": {
        "id": "eEbmcy9wK7L2",
        "outputId": "ba214971-a38d-4b74-d8a9-d8d87587dfbc",
        "colab": {
          "base_uri": "https://localhost:8080/",
          "height": 505
        }
      },
      "execution_count": null,
      "outputs": [
        {
          "output_type": "execute_result",
          "data": {
            "text/plain": [
              "     radius_mean  texture_mean  perimeter_mean  area_mean  smoothness_mean  \\\n",
              "0       1.097064     -2.073335        1.269934   0.984375         1.568466   \n",
              "1       1.829821     -0.353632        1.685955   1.908708        -0.826962   \n",
              "2       1.579888      0.456187        1.566503   1.558884         0.942210   \n",
              "3      -0.768909      0.253732       -0.592687  -0.764464         3.283553   \n",
              "4       1.750297     -1.151816        1.776573   1.826229         0.280372   \n",
              "..           ...           ...             ...        ...              ...   \n",
              "564     2.110995      0.721473        2.060786   2.343856         1.041842   \n",
              "565     1.704854      2.085134        1.615931   1.723842         0.102458   \n",
              "566     0.702284      2.045574        0.672676   0.577953        -0.840484   \n",
              "567     1.838341      2.336457        1.982524   1.735218         1.525767   \n",
              "568    -1.808401      1.221792       -1.814389  -1.347789        -3.112085   \n",
              "\n",
              "     compactness_mean  concavity_mean  concave points_mean  symmetry_mean  \\\n",
              "0            3.283515        2.652874             2.532475       2.217515   \n",
              "1           -0.487072       -0.023846             0.548144       0.001392   \n",
              "2            1.052926        1.363478             2.037231       0.939685   \n",
              "3            3.402909        1.915897             1.451707       2.867383   \n",
              "4            0.539340        1.371011             1.428493      -0.009560   \n",
              "..                ...             ...                  ...            ...   \n",
              "564          0.219060        1.947285             2.320965      -0.312589   \n",
              "565         -0.017833        0.693043             1.263669      -0.217664   \n",
              "566         -0.038680        0.046588             0.105777      -0.809117   \n",
              "567          3.272144        3.296944             2.658866       2.137194   \n",
              "568         -1.150752       -1.114873            -1.261820      -0.820070   \n",
              "\n",
              "     fractal_dimension_mean  ...  radius_worst  texture_worst  \\\n",
              "0                  2.255747  ...      1.886690      -1.359293   \n",
              "1                 -0.868652  ...      1.805927      -0.369203   \n",
              "2                 -0.398008  ...      1.511870      -0.023974   \n",
              "3                  4.910919  ...     -0.281464       0.133984   \n",
              "4                 -0.562450  ...      1.298575      -1.466770   \n",
              "..                      ...  ...           ...            ...   \n",
              "564               -0.931027  ...      1.901185       0.117700   \n",
              "565               -1.058611  ...      1.536720       2.047399   \n",
              "566               -0.895587  ...      0.561361       1.374854   \n",
              "567                1.043695  ...      1.961239       2.237926   \n",
              "568               -0.561032  ...     -1.410893       0.764190   \n",
              "\n",
              "     perimeter_worst  area_worst  smoothness_worst  compactness_worst  \\\n",
              "0           2.303601    2.001237          1.307686           2.616665   \n",
              "1           1.535126    1.890489         -0.375612          -0.430444   \n",
              "2           1.347475    1.456285          0.527407           1.082932   \n",
              "3          -0.249939   -0.550021          3.394275           3.893397   \n",
              "4           1.338539    1.220724          0.220556          -0.313395   \n",
              "..               ...         ...               ...                ...   \n",
              "564         1.752563    2.015301          0.378365          -0.273318   \n",
              "565         1.421940    1.494959         -0.691230          -0.394820   \n",
              "566         0.579001    0.427906         -0.809587           0.350735   \n",
              "567         2.303601    1.653171          1.430427           3.904848   \n",
              "568        -1.432735   -1.075813         -1.859019          -1.207552   \n",
              "\n",
              "     concavity_worst  concave points_worst  symmetry_worst  \\\n",
              "0           2.109526              2.296076        2.750622   \n",
              "1          -0.146749              1.087084       -0.243890   \n",
              "2           0.854974              1.955000        1.152255   \n",
              "3           1.989588              2.175786        6.046041   \n",
              "4           0.613179              0.729259       -0.868353   \n",
              "..               ...                   ...             ...   \n",
              "564         0.664512              1.629151       -1.360158   \n",
              "565         0.236573              0.733827       -0.531855   \n",
              "566         0.326767              0.414069       -1.104549   \n",
              "567         3.197605              2.289985        1.919083   \n",
              "568        -1.305831             -1.745063       -0.048138   \n",
              "\n",
              "     fractal_dimension_worst  \n",
              "0                   1.937015  \n",
              "1                   0.281190  \n",
              "2                   0.201391  \n",
              "3                   4.935010  \n",
              "4                  -0.397100  \n",
              "..                       ...  \n",
              "564                -0.709091  \n",
              "565                -0.973978  \n",
              "566                -0.318409  \n",
              "567                 2.219635  \n",
              "568                -0.751207  \n",
              "\n",
              "[569 rows x 30 columns]"
            ],
            "text/html": [
              "\n",
              "  <div id=\"df-e8dc6416-2d73-4279-87fc-3db4a5da1fbe\">\n",
              "    <div class=\"colab-df-container\">\n",
              "      <div>\n",
              "<style scoped>\n",
              "    .dataframe tbody tr th:only-of-type {\n",
              "        vertical-align: middle;\n",
              "    }\n",
              "\n",
              "    .dataframe tbody tr th {\n",
              "        vertical-align: top;\n",
              "    }\n",
              "\n",
              "    .dataframe thead th {\n",
              "        text-align: right;\n",
              "    }\n",
              "</style>\n",
              "<table border=\"1\" class=\"dataframe\">\n",
              "  <thead>\n",
              "    <tr style=\"text-align: right;\">\n",
              "      <th></th>\n",
              "      <th>radius_mean</th>\n",
              "      <th>texture_mean</th>\n",
              "      <th>perimeter_mean</th>\n",
              "      <th>area_mean</th>\n",
              "      <th>smoothness_mean</th>\n",
              "      <th>compactness_mean</th>\n",
              "      <th>concavity_mean</th>\n",
              "      <th>concave points_mean</th>\n",
              "      <th>symmetry_mean</th>\n",
              "      <th>fractal_dimension_mean</th>\n",
              "      <th>...</th>\n",
              "      <th>radius_worst</th>\n",
              "      <th>texture_worst</th>\n",
              "      <th>perimeter_worst</th>\n",
              "      <th>area_worst</th>\n",
              "      <th>smoothness_worst</th>\n",
              "      <th>compactness_worst</th>\n",
              "      <th>concavity_worst</th>\n",
              "      <th>concave points_worst</th>\n",
              "      <th>symmetry_worst</th>\n",
              "      <th>fractal_dimension_worst</th>\n",
              "    </tr>\n",
              "  </thead>\n",
              "  <tbody>\n",
              "    <tr>\n",
              "      <th>0</th>\n",
              "      <td>1.097064</td>\n",
              "      <td>-2.073335</td>\n",
              "      <td>1.269934</td>\n",
              "      <td>0.984375</td>\n",
              "      <td>1.568466</td>\n",
              "      <td>3.283515</td>\n",
              "      <td>2.652874</td>\n",
              "      <td>2.532475</td>\n",
              "      <td>2.217515</td>\n",
              "      <td>2.255747</td>\n",
              "      <td>...</td>\n",
              "      <td>1.886690</td>\n",
              "      <td>-1.359293</td>\n",
              "      <td>2.303601</td>\n",
              "      <td>2.001237</td>\n",
              "      <td>1.307686</td>\n",
              "      <td>2.616665</td>\n",
              "      <td>2.109526</td>\n",
              "      <td>2.296076</td>\n",
              "      <td>2.750622</td>\n",
              "      <td>1.937015</td>\n",
              "    </tr>\n",
              "    <tr>\n",
              "      <th>1</th>\n",
              "      <td>1.829821</td>\n",
              "      <td>-0.353632</td>\n",
              "      <td>1.685955</td>\n",
              "      <td>1.908708</td>\n",
              "      <td>-0.826962</td>\n",
              "      <td>-0.487072</td>\n",
              "      <td>-0.023846</td>\n",
              "      <td>0.548144</td>\n",
              "      <td>0.001392</td>\n",
              "      <td>-0.868652</td>\n",
              "      <td>...</td>\n",
              "      <td>1.805927</td>\n",
              "      <td>-0.369203</td>\n",
              "      <td>1.535126</td>\n",
              "      <td>1.890489</td>\n",
              "      <td>-0.375612</td>\n",
              "      <td>-0.430444</td>\n",
              "      <td>-0.146749</td>\n",
              "      <td>1.087084</td>\n",
              "      <td>-0.243890</td>\n",
              "      <td>0.281190</td>\n",
              "    </tr>\n",
              "    <tr>\n",
              "      <th>2</th>\n",
              "      <td>1.579888</td>\n",
              "      <td>0.456187</td>\n",
              "      <td>1.566503</td>\n",
              "      <td>1.558884</td>\n",
              "      <td>0.942210</td>\n",
              "      <td>1.052926</td>\n",
              "      <td>1.363478</td>\n",
              "      <td>2.037231</td>\n",
              "      <td>0.939685</td>\n",
              "      <td>-0.398008</td>\n",
              "      <td>...</td>\n",
              "      <td>1.511870</td>\n",
              "      <td>-0.023974</td>\n",
              "      <td>1.347475</td>\n",
              "      <td>1.456285</td>\n",
              "      <td>0.527407</td>\n",
              "      <td>1.082932</td>\n",
              "      <td>0.854974</td>\n",
              "      <td>1.955000</td>\n",
              "      <td>1.152255</td>\n",
              "      <td>0.201391</td>\n",
              "    </tr>\n",
              "    <tr>\n",
              "      <th>3</th>\n",
              "      <td>-0.768909</td>\n",
              "      <td>0.253732</td>\n",
              "      <td>-0.592687</td>\n",
              "      <td>-0.764464</td>\n",
              "      <td>3.283553</td>\n",
              "      <td>3.402909</td>\n",
              "      <td>1.915897</td>\n",
              "      <td>1.451707</td>\n",
              "      <td>2.867383</td>\n",
              "      <td>4.910919</td>\n",
              "      <td>...</td>\n",
              "      <td>-0.281464</td>\n",
              "      <td>0.133984</td>\n",
              "      <td>-0.249939</td>\n",
              "      <td>-0.550021</td>\n",
              "      <td>3.394275</td>\n",
              "      <td>3.893397</td>\n",
              "      <td>1.989588</td>\n",
              "      <td>2.175786</td>\n",
              "      <td>6.046041</td>\n",
              "      <td>4.935010</td>\n",
              "    </tr>\n",
              "    <tr>\n",
              "      <th>4</th>\n",
              "      <td>1.750297</td>\n",
              "      <td>-1.151816</td>\n",
              "      <td>1.776573</td>\n",
              "      <td>1.826229</td>\n",
              "      <td>0.280372</td>\n",
              "      <td>0.539340</td>\n",
              "      <td>1.371011</td>\n",
              "      <td>1.428493</td>\n",
              "      <td>-0.009560</td>\n",
              "      <td>-0.562450</td>\n",
              "      <td>...</td>\n",
              "      <td>1.298575</td>\n",
              "      <td>-1.466770</td>\n",
              "      <td>1.338539</td>\n",
              "      <td>1.220724</td>\n",
              "      <td>0.220556</td>\n",
              "      <td>-0.313395</td>\n",
              "      <td>0.613179</td>\n",
              "      <td>0.729259</td>\n",
              "      <td>-0.868353</td>\n",
              "      <td>-0.397100</td>\n",
              "    </tr>\n",
              "    <tr>\n",
              "      <th>...</th>\n",
              "      <td>...</td>\n",
              "      <td>...</td>\n",
              "      <td>...</td>\n",
              "      <td>...</td>\n",
              "      <td>...</td>\n",
              "      <td>...</td>\n",
              "      <td>...</td>\n",
              "      <td>...</td>\n",
              "      <td>...</td>\n",
              "      <td>...</td>\n",
              "      <td>...</td>\n",
              "      <td>...</td>\n",
              "      <td>...</td>\n",
              "      <td>...</td>\n",
              "      <td>...</td>\n",
              "      <td>...</td>\n",
              "      <td>...</td>\n",
              "      <td>...</td>\n",
              "      <td>...</td>\n",
              "      <td>...</td>\n",
              "      <td>...</td>\n",
              "    </tr>\n",
              "    <tr>\n",
              "      <th>564</th>\n",
              "      <td>2.110995</td>\n",
              "      <td>0.721473</td>\n",
              "      <td>2.060786</td>\n",
              "      <td>2.343856</td>\n",
              "      <td>1.041842</td>\n",
              "      <td>0.219060</td>\n",
              "      <td>1.947285</td>\n",
              "      <td>2.320965</td>\n",
              "      <td>-0.312589</td>\n",
              "      <td>-0.931027</td>\n",
              "      <td>...</td>\n",
              "      <td>1.901185</td>\n",
              "      <td>0.117700</td>\n",
              "      <td>1.752563</td>\n",
              "      <td>2.015301</td>\n",
              "      <td>0.378365</td>\n",
              "      <td>-0.273318</td>\n",
              "      <td>0.664512</td>\n",
              "      <td>1.629151</td>\n",
              "      <td>-1.360158</td>\n",
              "      <td>-0.709091</td>\n",
              "    </tr>\n",
              "    <tr>\n",
              "      <th>565</th>\n",
              "      <td>1.704854</td>\n",
              "      <td>2.085134</td>\n",
              "      <td>1.615931</td>\n",
              "      <td>1.723842</td>\n",
              "      <td>0.102458</td>\n",
              "      <td>-0.017833</td>\n",
              "      <td>0.693043</td>\n",
              "      <td>1.263669</td>\n",
              "      <td>-0.217664</td>\n",
              "      <td>-1.058611</td>\n",
              "      <td>...</td>\n",
              "      <td>1.536720</td>\n",
              "      <td>2.047399</td>\n",
              "      <td>1.421940</td>\n",
              "      <td>1.494959</td>\n",
              "      <td>-0.691230</td>\n",
              "      <td>-0.394820</td>\n",
              "      <td>0.236573</td>\n",
              "      <td>0.733827</td>\n",
              "      <td>-0.531855</td>\n",
              "      <td>-0.973978</td>\n",
              "    </tr>\n",
              "    <tr>\n",
              "      <th>566</th>\n",
              "      <td>0.702284</td>\n",
              "      <td>2.045574</td>\n",
              "      <td>0.672676</td>\n",
              "      <td>0.577953</td>\n",
              "      <td>-0.840484</td>\n",
              "      <td>-0.038680</td>\n",
              "      <td>0.046588</td>\n",
              "      <td>0.105777</td>\n",
              "      <td>-0.809117</td>\n",
              "      <td>-0.895587</td>\n",
              "      <td>...</td>\n",
              "      <td>0.561361</td>\n",
              "      <td>1.374854</td>\n",
              "      <td>0.579001</td>\n",
              "      <td>0.427906</td>\n",
              "      <td>-0.809587</td>\n",
              "      <td>0.350735</td>\n",
              "      <td>0.326767</td>\n",
              "      <td>0.414069</td>\n",
              "      <td>-1.104549</td>\n",
              "      <td>-0.318409</td>\n",
              "    </tr>\n",
              "    <tr>\n",
              "      <th>567</th>\n",
              "      <td>1.838341</td>\n",
              "      <td>2.336457</td>\n",
              "      <td>1.982524</td>\n",
              "      <td>1.735218</td>\n",
              "      <td>1.525767</td>\n",
              "      <td>3.272144</td>\n",
              "      <td>3.296944</td>\n",
              "      <td>2.658866</td>\n",
              "      <td>2.137194</td>\n",
              "      <td>1.043695</td>\n",
              "      <td>...</td>\n",
              "      <td>1.961239</td>\n",
              "      <td>2.237926</td>\n",
              "      <td>2.303601</td>\n",
              "      <td>1.653171</td>\n",
              "      <td>1.430427</td>\n",
              "      <td>3.904848</td>\n",
              "      <td>3.197605</td>\n",
              "      <td>2.289985</td>\n",
              "      <td>1.919083</td>\n",
              "      <td>2.219635</td>\n",
              "    </tr>\n",
              "    <tr>\n",
              "      <th>568</th>\n",
              "      <td>-1.808401</td>\n",
              "      <td>1.221792</td>\n",
              "      <td>-1.814389</td>\n",
              "      <td>-1.347789</td>\n",
              "      <td>-3.112085</td>\n",
              "      <td>-1.150752</td>\n",
              "      <td>-1.114873</td>\n",
              "      <td>-1.261820</td>\n",
              "      <td>-0.820070</td>\n",
              "      <td>-0.561032</td>\n",
              "      <td>...</td>\n",
              "      <td>-1.410893</td>\n",
              "      <td>0.764190</td>\n",
              "      <td>-1.432735</td>\n",
              "      <td>-1.075813</td>\n",
              "      <td>-1.859019</td>\n",
              "      <td>-1.207552</td>\n",
              "      <td>-1.305831</td>\n",
              "      <td>-1.745063</td>\n",
              "      <td>-0.048138</td>\n",
              "      <td>-0.751207</td>\n",
              "    </tr>\n",
              "  </tbody>\n",
              "</table>\n",
              "<p>569 rows × 30 columns</p>\n",
              "</div>\n",
              "      <button class=\"colab-df-convert\" onclick=\"convertToInteractive('df-e8dc6416-2d73-4279-87fc-3db4a5da1fbe')\"\n",
              "              title=\"Convert this dataframe to an interactive table.\"\n",
              "              style=\"display:none;\">\n",
              "        \n",
              "  <svg xmlns=\"http://www.w3.org/2000/svg\" height=\"24px\"viewBox=\"0 0 24 24\"\n",
              "       width=\"24px\">\n",
              "    <path d=\"M0 0h24v24H0V0z\" fill=\"none\"/>\n",
              "    <path d=\"M18.56 5.44l.94 2.06.94-2.06 2.06-.94-2.06-.94-.94-2.06-.94 2.06-2.06.94zm-11 1L8.5 8.5l.94-2.06 2.06-.94-2.06-.94L8.5 2.5l-.94 2.06-2.06.94zm10 10l.94 2.06.94-2.06 2.06-.94-2.06-.94-.94-2.06-.94 2.06-2.06.94z\"/><path d=\"M17.41 7.96l-1.37-1.37c-.4-.4-.92-.59-1.43-.59-.52 0-1.04.2-1.43.59L10.3 9.45l-7.72 7.72c-.78.78-.78 2.05 0 2.83L4 21.41c.39.39.9.59 1.41.59.51 0 1.02-.2 1.41-.59l7.78-7.78 2.81-2.81c.8-.78.8-2.07 0-2.86zM5.41 20L4 18.59l7.72-7.72 1.47 1.35L5.41 20z\"/>\n",
              "  </svg>\n",
              "      </button>\n",
              "      \n",
              "  <style>\n",
              "    .colab-df-container {\n",
              "      display:flex;\n",
              "      flex-wrap:wrap;\n",
              "      gap: 12px;\n",
              "    }\n",
              "\n",
              "    .colab-df-convert {\n",
              "      background-color: #E8F0FE;\n",
              "      border: none;\n",
              "      border-radius: 50%;\n",
              "      cursor: pointer;\n",
              "      display: none;\n",
              "      fill: #1967D2;\n",
              "      height: 32px;\n",
              "      padding: 0 0 0 0;\n",
              "      width: 32px;\n",
              "    }\n",
              "\n",
              "    .colab-df-convert:hover {\n",
              "      background-color: #E2EBFA;\n",
              "      box-shadow: 0px 1px 2px rgba(60, 64, 67, 0.3), 0px 1px 3px 1px rgba(60, 64, 67, 0.15);\n",
              "      fill: #174EA6;\n",
              "    }\n",
              "\n",
              "    [theme=dark] .colab-df-convert {\n",
              "      background-color: #3B4455;\n",
              "      fill: #D2E3FC;\n",
              "    }\n",
              "\n",
              "    [theme=dark] .colab-df-convert:hover {\n",
              "      background-color: #434B5C;\n",
              "      box-shadow: 0px 1px 3px 1px rgba(0, 0, 0, 0.15);\n",
              "      filter: drop-shadow(0px 1px 2px rgba(0, 0, 0, 0.3));\n",
              "      fill: #FFFFFF;\n",
              "    }\n",
              "  </style>\n",
              "\n",
              "      <script>\n",
              "        const buttonEl =\n",
              "          document.querySelector('#df-e8dc6416-2d73-4279-87fc-3db4a5da1fbe button.colab-df-convert');\n",
              "        buttonEl.style.display =\n",
              "          google.colab.kernel.accessAllowed ? 'block' : 'none';\n",
              "\n",
              "        async function convertToInteractive(key) {\n",
              "          const element = document.querySelector('#df-e8dc6416-2d73-4279-87fc-3db4a5da1fbe');\n",
              "          const dataTable =\n",
              "            await google.colab.kernel.invokeFunction('convertToInteractive',\n",
              "                                                     [key], {});\n",
              "          if (!dataTable) return;\n",
              "\n",
              "          const docLinkHtml = 'Like what you see? Visit the ' +\n",
              "            '<a target=\"_blank\" href=https://colab.research.google.com/notebooks/data_table.ipynb>data table notebook</a>'\n",
              "            + ' to learn more about interactive tables.';\n",
              "          element.innerHTML = '';\n",
              "          dataTable['output_type'] = 'display_data';\n",
              "          await google.colab.output.renderOutput(dataTable, element);\n",
              "          const docLink = document.createElement('div');\n",
              "          docLink.innerHTML = docLinkHtml;\n",
              "          element.appendChild(docLink);\n",
              "        }\n",
              "      </script>\n",
              "    </div>\n",
              "  </div>\n",
              "  "
            ]
          },
          "metadata": {},
          "execution_count": 43
        }
      ]
    },
    {
      "cell_type": "code",
      "source": [
        "pca_pipe = make_pipeline(StandardScaler(), PCA())\n",
        "info=df.drop(['id', 'diagnosis'], axis=1)\n",
        "pca_pipe.fit(info)\n",
        "\n",
        "modelo_pca = pca_pipe.named_steps['pca']\n",
        "df_pca= pd.DataFrame(data= modelo_pca.components_, columns = info.columns)\n",
        "df_pca"
      ],
      "metadata": {
        "id": "DNZeXYsZfB70",
        "colab": {
          "base_uri": "https://localhost:8080/",
          "height": 1000
        },
        "outputId": "e057d15b-8717-4eea-9754-550548575c76"
      },
      "execution_count": null,
      "outputs": [
        {
          "output_type": "execute_result",
          "data": {
            "text/plain": [
              "    radius_mean  texture_mean  perimeter_mean  area_mean  smoothness_mean  \\\n",
              "0      0.218902      0.103725        0.227537   0.220995         0.142590   \n",
              "1     -0.233857     -0.059706       -0.215181  -0.231077         0.186113   \n",
              "2     -0.008531      0.064550       -0.009314   0.028700        -0.104292   \n",
              "3      0.041409     -0.603050        0.041983   0.053434         0.159383   \n",
              "4      0.037786     -0.049469        0.037375   0.010331        -0.365089   \n",
              "5      0.018741     -0.032179        0.017308  -0.001888        -0.286374   \n",
              "6     -0.124088      0.011400       -0.114477  -0.051653        -0.140669   \n",
              "7     -0.007452      0.130675       -0.018687   0.034674        -0.288975   \n",
              "8     -0.223110      0.112699       -0.223739  -0.195586         0.006425   \n",
              "9      0.095486      0.240934        0.086386   0.074956        -0.069293   \n",
              "10     0.041471     -0.302243        0.016783   0.110170        -0.137022   \n",
              "11     0.051067      0.254896        0.038926   0.065438         0.316727   \n",
              "12     0.011967      0.203461        0.044110   0.067376         0.045574   \n",
              "13     0.059506     -0.021560        0.048514   0.010831         0.445065   \n",
              "14     0.051119      0.107922        0.039903  -0.013967         0.118143   \n",
              "15    -0.150584     -0.157842       -0.114454  -0.132448        -0.204613   \n",
              "16     0.202924     -0.038706        0.194821   0.255706         0.167930   \n",
              "17     0.146712     -0.041103        0.158317   0.266168        -0.352227   \n",
              "18    -0.225385     -0.029789       -0.239595   0.027322         0.164566   \n",
              "19    -0.049699     -0.244135       -0.017665  -0.090144         0.017101   \n",
              "20    -0.068570      0.448369       -0.069769  -0.018443        -0.119492   \n",
              "21     0.072929      0.094801        0.075160   0.097566         0.063823   \n",
              "22    -0.098553     -0.000555       -0.040245   0.007777        -0.020666   \n",
              "23     0.182579     -0.098787        0.116649  -0.069848        -0.068697   \n",
              "24     0.019226     -0.084746       -0.027015   0.210041        -0.028955   \n",
              "25    -0.129476     -0.024557       -0.125256   0.362727        -0.037004   \n",
              "26    -0.131527     -0.017357       -0.115415   0.466612         0.069690   \n",
              "27     0.211194     -0.000066        0.084338  -0.272508         0.001479   \n",
              "28     0.211460     -0.010534        0.383826  -0.422795        -0.003435   \n",
              "29    -0.702414     -0.000274        0.689897   0.032947         0.004847   \n",
              "\n",
              "    compactness_mean  concavity_mean  concave points_mean  symmetry_mean  \\\n",
              "0           0.239285        0.258400             0.260854       0.138167   \n",
              "1           0.151892        0.060165            -0.034768       0.190349   \n",
              "2          -0.074092        0.002734            -0.025564      -0.040240   \n",
              "3           0.031795        0.019123             0.065336       0.067125   \n",
              "4           0.011704        0.086375            -0.043861      -0.305941   \n",
              "5          -0.014131       -0.009344            -0.052050       0.356458   \n",
              "6           0.030918       -0.107520            -0.150482      -0.093891   \n",
              "7          -0.151396       -0.072827            -0.152322      -0.231531   \n",
              "8          -0.167841        0.040591            -0.111971       0.256040   \n",
              "9           0.012936       -0.135602             0.008055       0.572069   \n",
              "10         -0.308010        0.124190            -0.072446       0.163054   \n",
              "11         -0.104017        0.065653             0.042589      -0.288866   \n",
              "12          0.229281        0.387091             0.132138       0.189934   \n",
              "13          0.008101       -0.189359            -0.244795       0.030739   \n",
              "14         -0.230900        0.128284             0.217099       0.073962   \n",
              "15          0.170178        0.269470             0.380464      -0.164662   \n",
              "16         -0.020308       -0.001598             0.034510      -0.191738   \n",
              "17          0.007794       -0.026968            -0.082828       0.173398   \n",
              "18         -0.284222       -0.002266             0.154972       0.058811   \n",
              "19          0.488686       -0.033387            -0.235408       0.026069   \n",
              "20          0.192621        0.005572            -0.009424      -0.086938   \n",
              "21         -0.098078       -0.185212            -0.311852      -0.018407   \n",
              "22          0.052360        0.324870            -0.051409      -0.051201   \n",
              "23          0.104136       -0.044741            -0.084028      -0.019339   \n",
              "24         -0.396623        0.096977             0.186452       0.024584   \n",
              "25          0.262808       -0.548876             0.387643      -0.016044   \n",
              "26          0.097749        0.364808            -0.454699      -0.015165   \n",
              "27         -0.005463        0.045539            -0.008883       0.001433   \n",
              "28         -0.041017       -0.010015            -0.004207      -0.007570   \n",
              "29         -0.044674       -0.025139             0.001077       0.001280   \n",
              "\n",
              "    fractal_dimension_mean  ...  radius_worst  texture_worst  perimeter_worst  \\\n",
              "0                 0.064363  ...      0.227997       0.104469         0.236640   \n",
              "1                 0.366575  ...     -0.219866      -0.045467        -0.199878   \n",
              "2                -0.022574  ...     -0.047507      -0.042298        -0.048547   \n",
              "3                 0.048587  ...      0.015417      -0.632808         0.013803   \n",
              "4                -0.044424  ...     -0.004407      -0.092883         0.007454   \n",
              "5                -0.119431  ...     -0.000291      -0.050008         0.008501   \n",
              "6                 0.295760  ...     -0.009710       0.009871        -0.000446   \n",
              "7                -0.177121  ...      0.042619       0.036252         0.030559   \n",
              "8                -0.123741  ...     -0.112141       0.103341        -0.109614   \n",
              "9                 0.081103  ...      0.077362       0.029551         0.050508   \n",
              "10               -0.038048  ...      0.105067       0.013157         0.051076   \n",
              "11                0.236359  ...      0.039680       0.079797        -0.008988   \n",
              "12                0.106239  ...     -0.137891      -0.080145        -0.096966   \n",
              "13               -0.377079  ...      0.023101       0.053431         0.012219   \n",
              "14               -0.517976  ...     -0.166567      -0.101115        -0.182755   \n",
              "15               -0.040793  ...     -0.081561       0.185558        -0.054857   \n",
              "16                0.050225  ...     -0.240050       0.069365        -0.234164   \n",
              "17                0.087867  ...     -0.216101       0.058398        -0.188544   \n",
              "18                0.058157  ...     -0.013661       0.075867        -0.090813   \n",
              "19               -0.175637  ...     -0.005627       0.300600         0.011004   \n",
              "20               -0.076272  ...      0.007294      -0.594440        -0.092024   \n",
              "21                0.287869  ...     -0.096298      -0.111112         0.017222   \n",
              "22               -0.084690  ...     -0.055677      -0.008923         0.063345   \n",
              "23                0.133261  ...      0.156830       0.118485        -0.237113   \n",
              "24                0.207222  ...     -0.070710       0.118190        -0.118034   \n",
              "25               -0.097405  ...     -0.197055       0.036469        -0.244104   \n",
              "26               -0.101245  ...     -0.178667       0.021411        -0.241031   \n",
              "27               -0.006312  ...      0.412640      -0.000390        -0.728681   \n",
              "28                0.007301  ...     -0.635725       0.017235         0.022922   \n",
              "29                0.004756  ...      0.135643      -0.001021        -0.079744   \n",
              "\n",
              "    area_worst  smoothness_worst  compactness_worst  concavity_worst  \\\n",
              "0     0.224871          0.127953           0.210096         0.228768   \n",
              "1    -0.219352          0.172304           0.143593         0.097964   \n",
              "2    -0.011902         -0.259798          -0.236076        -0.173057   \n",
              "3     0.025895          0.017652          -0.091328        -0.073951   \n",
              "4    -0.027391         -0.324435           0.121804         0.188519   \n",
              "5    -0.025164         -0.369255           0.047706         0.028379   \n",
              "6     0.067832         -0.108831           0.140473        -0.060488   \n",
              "7     0.079394          0.205852           0.084020         0.072468   \n",
              "8    -0.080732          0.112316          -0.100678         0.161909   \n",
              "9     0.069921         -0.128305          -0.172134        -0.311639   \n",
              "10    0.184599          0.143890          -0.197420         0.185017   \n",
              "11    0.048089          0.056515          -0.371663        -0.087035   \n",
              "12   -0.101161         -0.205130           0.012279         0.217984   \n",
              "13   -0.006685          0.162235           0.166470        -0.066799   \n",
              "14   -0.314994         -0.046126           0.049956         0.204836   \n",
              "15   -0.090653          0.145552          -0.153735        -0.215022   \n",
              "16   -0.273400         -0.278030          -0.004037        -0.191313   \n",
              "17   -0.142065          0.501552          -0.073575        -0.103908   \n",
              "18    0.410047         -0.234514          -0.020201         0.045786   \n",
              "19    0.060047         -0.129724           0.229281        -0.046483   \n",
              "20    0.146790          0.164849           0.181375        -0.132101   \n",
              "21   -0.096960         -0.068254           0.029676         0.460426   \n",
              "22    0.190890          0.093690          -0.147921         0.286433   \n",
              "23   -0.144063          0.010990          -0.186750         0.288853   \n",
              "24    0.038290          0.047965           0.624385        -0.115770   \n",
              "25    0.231360          0.012602          -0.100463         0.266854   \n",
              "26    0.237162         -0.040854          -0.070505        -0.142906   \n",
              "27    0.238960         -0.001535           0.048692        -0.017641   \n",
              "28    0.444936          0.007385           0.000004        -0.012676   \n",
              "29   -0.039742         -0.004583           0.012842        -0.000402   \n",
              "\n",
              "    concave points_worst  symmetry_worst  fractal_dimension_worst  \n",
              "0               0.250886        0.122905                 0.131784  \n",
              "1              -0.008257        0.141883                 0.275339  \n",
              "2              -0.170344       -0.271313                -0.232791  \n",
              "3               0.006007       -0.036251                -0.077053  \n",
              "4               0.043332       -0.244559                 0.094423  \n",
              "5              -0.030873        0.498927                -0.080224  \n",
              "6              -0.167967       -0.018491                 0.374658  \n",
              "7              -0.036171        0.228225                 0.048361  \n",
              "8               0.060488        0.064638                -0.134174  \n",
              "9              -0.076648       -0.029563                 0.012610  \n",
              "10             -0.117772        0.157560                 0.118284  \n",
              "11             -0.068125        0.044034                -0.034732  \n",
              "12             -0.254387       -0.256535                -0.172814  \n",
              "13             -0.276419        0.005356                -0.212104  \n",
              "14              0.169500       -0.139888                 0.256173  \n",
              "15              0.178142        0.257894                -0.405556  \n",
              "16             -0.075485        0.430658                 0.159394  \n",
              "17              0.075814       -0.278714                 0.023565  \n",
              "18              0.260230       -0.117251                 0.011494  \n",
              "19              0.033022       -0.116759                -0.104992  \n",
              "20              0.000886        0.162709                -0.092344  \n",
              "21              0.299841        0.097145                -0.469471  \n",
              "22             -0.567528        0.121343                 0.007625  \n",
              "23             -0.107340        0.014382                -0.037825  \n",
              "24             -0.263196       -0.045300                -0.280133  \n",
              "25             -0.133575        0.028184                 0.004520  \n",
              "26              0.230901        0.022790                 0.059986  \n",
              "27              0.022476        0.004920                -0.023562  \n",
              "28              0.035240        0.013404                 0.011478  \n",
              "29              0.002288       -0.000395                -0.001894  \n",
              "\n",
              "[30 rows x 30 columns]"
            ],
            "text/html": [
              "\n",
              "  <div id=\"df-63bdf603-52be-475d-98b8-b21cd8561669\">\n",
              "    <div class=\"colab-df-container\">\n",
              "      <div>\n",
              "<style scoped>\n",
              "    .dataframe tbody tr th:only-of-type {\n",
              "        vertical-align: middle;\n",
              "    }\n",
              "\n",
              "    .dataframe tbody tr th {\n",
              "        vertical-align: top;\n",
              "    }\n",
              "\n",
              "    .dataframe thead th {\n",
              "        text-align: right;\n",
              "    }\n",
              "</style>\n",
              "<table border=\"1\" class=\"dataframe\">\n",
              "  <thead>\n",
              "    <tr style=\"text-align: right;\">\n",
              "      <th></th>\n",
              "      <th>radius_mean</th>\n",
              "      <th>texture_mean</th>\n",
              "      <th>perimeter_mean</th>\n",
              "      <th>area_mean</th>\n",
              "      <th>smoothness_mean</th>\n",
              "      <th>compactness_mean</th>\n",
              "      <th>concavity_mean</th>\n",
              "      <th>concave points_mean</th>\n",
              "      <th>symmetry_mean</th>\n",
              "      <th>fractal_dimension_mean</th>\n",
              "      <th>...</th>\n",
              "      <th>radius_worst</th>\n",
              "      <th>texture_worst</th>\n",
              "      <th>perimeter_worst</th>\n",
              "      <th>area_worst</th>\n",
              "      <th>smoothness_worst</th>\n",
              "      <th>compactness_worst</th>\n",
              "      <th>concavity_worst</th>\n",
              "      <th>concave points_worst</th>\n",
              "      <th>symmetry_worst</th>\n",
              "      <th>fractal_dimension_worst</th>\n",
              "    </tr>\n",
              "  </thead>\n",
              "  <tbody>\n",
              "    <tr>\n",
              "      <th>0</th>\n",
              "      <td>0.218902</td>\n",
              "      <td>0.103725</td>\n",
              "      <td>0.227537</td>\n",
              "      <td>0.220995</td>\n",
              "      <td>0.142590</td>\n",
              "      <td>0.239285</td>\n",
              "      <td>0.258400</td>\n",
              "      <td>0.260854</td>\n",
              "      <td>0.138167</td>\n",
              "      <td>0.064363</td>\n",
              "      <td>...</td>\n",
              "      <td>0.227997</td>\n",
              "      <td>0.104469</td>\n",
              "      <td>0.236640</td>\n",
              "      <td>0.224871</td>\n",
              "      <td>0.127953</td>\n",
              "      <td>0.210096</td>\n",
              "      <td>0.228768</td>\n",
              "      <td>0.250886</td>\n",
              "      <td>0.122905</td>\n",
              "      <td>0.131784</td>\n",
              "    </tr>\n",
              "    <tr>\n",
              "      <th>1</th>\n",
              "      <td>-0.233857</td>\n",
              "      <td>-0.059706</td>\n",
              "      <td>-0.215181</td>\n",
              "      <td>-0.231077</td>\n",
              "      <td>0.186113</td>\n",
              "      <td>0.151892</td>\n",
              "      <td>0.060165</td>\n",
              "      <td>-0.034768</td>\n",
              "      <td>0.190349</td>\n",
              "      <td>0.366575</td>\n",
              "      <td>...</td>\n",
              "      <td>-0.219866</td>\n",
              "      <td>-0.045467</td>\n",
              "      <td>-0.199878</td>\n",
              "      <td>-0.219352</td>\n",
              "      <td>0.172304</td>\n",
              "      <td>0.143593</td>\n",
              "      <td>0.097964</td>\n",
              "      <td>-0.008257</td>\n",
              "      <td>0.141883</td>\n",
              "      <td>0.275339</td>\n",
              "    </tr>\n",
              "    <tr>\n",
              "      <th>2</th>\n",
              "      <td>-0.008531</td>\n",
              "      <td>0.064550</td>\n",
              "      <td>-0.009314</td>\n",
              "      <td>0.028700</td>\n",
              "      <td>-0.104292</td>\n",
              "      <td>-0.074092</td>\n",
              "      <td>0.002734</td>\n",
              "      <td>-0.025564</td>\n",
              "      <td>-0.040240</td>\n",
              "      <td>-0.022574</td>\n",
              "      <td>...</td>\n",
              "      <td>-0.047507</td>\n",
              "      <td>-0.042298</td>\n",
              "      <td>-0.048547</td>\n",
              "      <td>-0.011902</td>\n",
              "      <td>-0.259798</td>\n",
              "      <td>-0.236076</td>\n",
              "      <td>-0.173057</td>\n",
              "      <td>-0.170344</td>\n",
              "      <td>-0.271313</td>\n",
              "      <td>-0.232791</td>\n",
              "    </tr>\n",
              "    <tr>\n",
              "      <th>3</th>\n",
              "      <td>0.041409</td>\n",
              "      <td>-0.603050</td>\n",
              "      <td>0.041983</td>\n",
              "      <td>0.053434</td>\n",
              "      <td>0.159383</td>\n",
              "      <td>0.031795</td>\n",
              "      <td>0.019123</td>\n",
              "      <td>0.065336</td>\n",
              "      <td>0.067125</td>\n",
              "      <td>0.048587</td>\n",
              "      <td>...</td>\n",
              "      <td>0.015417</td>\n",
              "      <td>-0.632808</td>\n",
              "      <td>0.013803</td>\n",
              "      <td>0.025895</td>\n",
              "      <td>0.017652</td>\n",
              "      <td>-0.091328</td>\n",
              "      <td>-0.073951</td>\n",
              "      <td>0.006007</td>\n",
              "      <td>-0.036251</td>\n",
              "      <td>-0.077053</td>\n",
              "    </tr>\n",
              "    <tr>\n",
              "      <th>4</th>\n",
              "      <td>0.037786</td>\n",
              "      <td>-0.049469</td>\n",
              "      <td>0.037375</td>\n",
              "      <td>0.010331</td>\n",
              "      <td>-0.365089</td>\n",
              "      <td>0.011704</td>\n",
              "      <td>0.086375</td>\n",
              "      <td>-0.043861</td>\n",
              "      <td>-0.305941</td>\n",
              "      <td>-0.044424</td>\n",
              "      <td>...</td>\n",
              "      <td>-0.004407</td>\n",
              "      <td>-0.092883</td>\n",
              "      <td>0.007454</td>\n",
              "      <td>-0.027391</td>\n",
              "      <td>-0.324435</td>\n",
              "      <td>0.121804</td>\n",
              "      <td>0.188519</td>\n",
              "      <td>0.043332</td>\n",
              "      <td>-0.244559</td>\n",
              "      <td>0.094423</td>\n",
              "    </tr>\n",
              "    <tr>\n",
              "      <th>5</th>\n",
              "      <td>0.018741</td>\n",
              "      <td>-0.032179</td>\n",
              "      <td>0.017308</td>\n",
              "      <td>-0.001888</td>\n",
              "      <td>-0.286374</td>\n",
              "      <td>-0.014131</td>\n",
              "      <td>-0.009344</td>\n",
              "      <td>-0.052050</td>\n",
              "      <td>0.356458</td>\n",
              "      <td>-0.119431</td>\n",
              "      <td>...</td>\n",
              "      <td>-0.000291</td>\n",
              "      <td>-0.050008</td>\n",
              "      <td>0.008501</td>\n",
              "      <td>-0.025164</td>\n",
              "      <td>-0.369255</td>\n",
              "      <td>0.047706</td>\n",
              "      <td>0.028379</td>\n",
              "      <td>-0.030873</td>\n",
              "      <td>0.498927</td>\n",
              "      <td>-0.080224</td>\n",
              "    </tr>\n",
              "    <tr>\n",
              "      <th>6</th>\n",
              "      <td>-0.124088</td>\n",
              "      <td>0.011400</td>\n",
              "      <td>-0.114477</td>\n",
              "      <td>-0.051653</td>\n",
              "      <td>-0.140669</td>\n",
              "      <td>0.030918</td>\n",
              "      <td>-0.107520</td>\n",
              "      <td>-0.150482</td>\n",
              "      <td>-0.093891</td>\n",
              "      <td>0.295760</td>\n",
              "      <td>...</td>\n",
              "      <td>-0.009710</td>\n",
              "      <td>0.009871</td>\n",
              "      <td>-0.000446</td>\n",
              "      <td>0.067832</td>\n",
              "      <td>-0.108831</td>\n",
              "      <td>0.140473</td>\n",
              "      <td>-0.060488</td>\n",
              "      <td>-0.167967</td>\n",
              "      <td>-0.018491</td>\n",
              "      <td>0.374658</td>\n",
              "    </tr>\n",
              "    <tr>\n",
              "      <th>7</th>\n",
              "      <td>-0.007452</td>\n",
              "      <td>0.130675</td>\n",
              "      <td>-0.018687</td>\n",
              "      <td>0.034674</td>\n",
              "      <td>-0.288975</td>\n",
              "      <td>-0.151396</td>\n",
              "      <td>-0.072827</td>\n",
              "      <td>-0.152322</td>\n",
              "      <td>-0.231531</td>\n",
              "      <td>-0.177121</td>\n",
              "      <td>...</td>\n",
              "      <td>0.042619</td>\n",
              "      <td>0.036252</td>\n",
              "      <td>0.030559</td>\n",
              "      <td>0.079394</td>\n",
              "      <td>0.205852</td>\n",
              "      <td>0.084020</td>\n",
              "      <td>0.072468</td>\n",
              "      <td>-0.036171</td>\n",
              "      <td>0.228225</td>\n",
              "      <td>0.048361</td>\n",
              "    </tr>\n",
              "    <tr>\n",
              "      <th>8</th>\n",
              "      <td>-0.223110</td>\n",
              "      <td>0.112699</td>\n",
              "      <td>-0.223739</td>\n",
              "      <td>-0.195586</td>\n",
              "      <td>0.006425</td>\n",
              "      <td>-0.167841</td>\n",
              "      <td>0.040591</td>\n",
              "      <td>-0.111971</td>\n",
              "      <td>0.256040</td>\n",
              "      <td>-0.123741</td>\n",
              "      <td>...</td>\n",
              "      <td>-0.112141</td>\n",
              "      <td>0.103341</td>\n",
              "      <td>-0.109614</td>\n",
              "      <td>-0.080732</td>\n",
              "      <td>0.112316</td>\n",
              "      <td>-0.100678</td>\n",
              "      <td>0.161909</td>\n",
              "      <td>0.060488</td>\n",
              "      <td>0.064638</td>\n",
              "      <td>-0.134174</td>\n",
              "    </tr>\n",
              "    <tr>\n",
              "      <th>9</th>\n",
              "      <td>0.095486</td>\n",
              "      <td>0.240934</td>\n",
              "      <td>0.086386</td>\n",
              "      <td>0.074956</td>\n",
              "      <td>-0.069293</td>\n",
              "      <td>0.012936</td>\n",
              "      <td>-0.135602</td>\n",
              "      <td>0.008055</td>\n",
              "      <td>0.572069</td>\n",
              "      <td>0.081103</td>\n",
              "      <td>...</td>\n",
              "      <td>0.077362</td>\n",
              "      <td>0.029551</td>\n",
              "      <td>0.050508</td>\n",
              "      <td>0.069921</td>\n",
              "      <td>-0.128305</td>\n",
              "      <td>-0.172134</td>\n",
              "      <td>-0.311639</td>\n",
              "      <td>-0.076648</td>\n",
              "      <td>-0.029563</td>\n",
              "      <td>0.012610</td>\n",
              "    </tr>\n",
              "    <tr>\n",
              "      <th>10</th>\n",
              "      <td>0.041471</td>\n",
              "      <td>-0.302243</td>\n",
              "      <td>0.016783</td>\n",
              "      <td>0.110170</td>\n",
              "      <td>-0.137022</td>\n",
              "      <td>-0.308010</td>\n",
              "      <td>0.124190</td>\n",
              "      <td>-0.072446</td>\n",
              "      <td>0.163054</td>\n",
              "      <td>-0.038048</td>\n",
              "      <td>...</td>\n",
              "      <td>0.105067</td>\n",
              "      <td>0.013157</td>\n",
              "      <td>0.051076</td>\n",
              "      <td>0.184599</td>\n",
              "      <td>0.143890</td>\n",
              "      <td>-0.197420</td>\n",
              "      <td>0.185017</td>\n",
              "      <td>-0.117772</td>\n",
              "      <td>0.157560</td>\n",
              "      <td>0.118284</td>\n",
              "    </tr>\n",
              "    <tr>\n",
              "      <th>11</th>\n",
              "      <td>0.051067</td>\n",
              "      <td>0.254896</td>\n",
              "      <td>0.038926</td>\n",
              "      <td>0.065438</td>\n",
              "      <td>0.316727</td>\n",
              "      <td>-0.104017</td>\n",
              "      <td>0.065653</td>\n",
              "      <td>0.042589</td>\n",
              "      <td>-0.288866</td>\n",
              "      <td>0.236359</td>\n",
              "      <td>...</td>\n",
              "      <td>0.039680</td>\n",
              "      <td>0.079797</td>\n",
              "      <td>-0.008988</td>\n",
              "      <td>0.048089</td>\n",
              "      <td>0.056515</td>\n",
              "      <td>-0.371663</td>\n",
              "      <td>-0.087035</td>\n",
              "      <td>-0.068125</td>\n",
              "      <td>0.044034</td>\n",
              "      <td>-0.034732</td>\n",
              "    </tr>\n",
              "    <tr>\n",
              "      <th>12</th>\n",
              "      <td>0.011967</td>\n",
              "      <td>0.203461</td>\n",
              "      <td>0.044110</td>\n",
              "      <td>0.067376</td>\n",
              "      <td>0.045574</td>\n",
              "      <td>0.229281</td>\n",
              "      <td>0.387091</td>\n",
              "      <td>0.132138</td>\n",
              "      <td>0.189934</td>\n",
              "      <td>0.106239</td>\n",
              "      <td>...</td>\n",
              "      <td>-0.137891</td>\n",
              "      <td>-0.080145</td>\n",
              "      <td>-0.096966</td>\n",
              "      <td>-0.101161</td>\n",
              "      <td>-0.205130</td>\n",
              "      <td>0.012279</td>\n",
              "      <td>0.217984</td>\n",
              "      <td>-0.254387</td>\n",
              "      <td>-0.256535</td>\n",
              "      <td>-0.172814</td>\n",
              "    </tr>\n",
              "    <tr>\n",
              "      <th>13</th>\n",
              "      <td>0.059506</td>\n",
              "      <td>-0.021560</td>\n",
              "      <td>0.048514</td>\n",
              "      <td>0.010831</td>\n",
              "      <td>0.445065</td>\n",
              "      <td>0.008101</td>\n",
              "      <td>-0.189359</td>\n",
              "      <td>-0.244795</td>\n",
              "      <td>0.030739</td>\n",
              "      <td>-0.377079</td>\n",
              "      <td>...</td>\n",
              "      <td>0.023101</td>\n",
              "      <td>0.053431</td>\n",
              "      <td>0.012219</td>\n",
              "      <td>-0.006685</td>\n",
              "      <td>0.162235</td>\n",
              "      <td>0.166470</td>\n",
              "      <td>-0.066799</td>\n",
              "      <td>-0.276419</td>\n",
              "      <td>0.005356</td>\n",
              "      <td>-0.212104</td>\n",
              "    </tr>\n",
              "    <tr>\n",
              "      <th>14</th>\n",
              "      <td>0.051119</td>\n",
              "      <td>0.107922</td>\n",
              "      <td>0.039903</td>\n",
              "      <td>-0.013967</td>\n",
              "      <td>0.118143</td>\n",
              "      <td>-0.230900</td>\n",
              "      <td>0.128284</td>\n",
              "      <td>0.217099</td>\n",
              "      <td>0.073962</td>\n",
              "      <td>-0.517976</td>\n",
              "      <td>...</td>\n",
              "      <td>-0.166567</td>\n",
              "      <td>-0.101115</td>\n",
              "      <td>-0.182755</td>\n",
              "      <td>-0.314994</td>\n",
              "      <td>-0.046126</td>\n",
              "      <td>0.049956</td>\n",
              "      <td>0.204836</td>\n",
              "      <td>0.169500</td>\n",
              "      <td>-0.139888</td>\n",
              "      <td>0.256173</td>\n",
              "    </tr>\n",
              "    <tr>\n",
              "      <th>15</th>\n",
              "      <td>-0.150584</td>\n",
              "      <td>-0.157842</td>\n",
              "      <td>-0.114454</td>\n",
              "      <td>-0.132448</td>\n",
              "      <td>-0.204613</td>\n",
              "      <td>0.170178</td>\n",
              "      <td>0.269470</td>\n",
              "      <td>0.380464</td>\n",
              "      <td>-0.164662</td>\n",
              "      <td>-0.040793</td>\n",
              "      <td>...</td>\n",
              "      <td>-0.081561</td>\n",
              "      <td>0.185558</td>\n",
              "      <td>-0.054857</td>\n",
              "      <td>-0.090653</td>\n",
              "      <td>0.145552</td>\n",
              "      <td>-0.153735</td>\n",
              "      <td>-0.215022</td>\n",
              "      <td>0.178142</td>\n",
              "      <td>0.257894</td>\n",
              "      <td>-0.405556</td>\n",
              "    </tr>\n",
              "    <tr>\n",
              "      <th>16</th>\n",
              "      <td>0.202924</td>\n",
              "      <td>-0.038706</td>\n",
              "      <td>0.194821</td>\n",
              "      <td>0.255706</td>\n",
              "      <td>0.167930</td>\n",
              "      <td>-0.020308</td>\n",
              "      <td>-0.001598</td>\n",
              "      <td>0.034510</td>\n",
              "      <td>-0.191738</td>\n",
              "      <td>0.050225</td>\n",
              "      <td>...</td>\n",
              "      <td>-0.240050</td>\n",
              "      <td>0.069365</td>\n",
              "      <td>-0.234164</td>\n",
              "      <td>-0.273400</td>\n",
              "      <td>-0.278030</td>\n",
              "      <td>-0.004037</td>\n",
              "      <td>-0.191313</td>\n",
              "      <td>-0.075485</td>\n",
              "      <td>0.430658</td>\n",
              "      <td>0.159394</td>\n",
              "    </tr>\n",
              "    <tr>\n",
              "      <th>17</th>\n",
              "      <td>0.146712</td>\n",
              "      <td>-0.041103</td>\n",
              "      <td>0.158317</td>\n",
              "      <td>0.266168</td>\n",
              "      <td>-0.352227</td>\n",
              "      <td>0.007794</td>\n",
              "      <td>-0.026968</td>\n",
              "      <td>-0.082828</td>\n",
              "      <td>0.173398</td>\n",
              "      <td>0.087867</td>\n",
              "      <td>...</td>\n",
              "      <td>-0.216101</td>\n",
              "      <td>0.058398</td>\n",
              "      <td>-0.188544</td>\n",
              "      <td>-0.142065</td>\n",
              "      <td>0.501552</td>\n",
              "      <td>-0.073575</td>\n",
              "      <td>-0.103908</td>\n",
              "      <td>0.075814</td>\n",
              "      <td>-0.278714</td>\n",
              "      <td>0.023565</td>\n",
              "    </tr>\n",
              "    <tr>\n",
              "      <th>18</th>\n",
              "      <td>-0.225385</td>\n",
              "      <td>-0.029789</td>\n",
              "      <td>-0.239595</td>\n",
              "      <td>0.027322</td>\n",
              "      <td>0.164566</td>\n",
              "      <td>-0.284222</td>\n",
              "      <td>-0.002266</td>\n",
              "      <td>0.154972</td>\n",
              "      <td>0.058811</td>\n",
              "      <td>0.058157</td>\n",
              "      <td>...</td>\n",
              "      <td>-0.013661</td>\n",
              "      <td>0.075867</td>\n",
              "      <td>-0.090813</td>\n",
              "      <td>0.410047</td>\n",
              "      <td>-0.234514</td>\n",
              "      <td>-0.020201</td>\n",
              "      <td>0.045786</td>\n",
              "      <td>0.260230</td>\n",
              "      <td>-0.117251</td>\n",
              "      <td>0.011494</td>\n",
              "    </tr>\n",
              "    <tr>\n",
              "      <th>19</th>\n",
              "      <td>-0.049699</td>\n",
              "      <td>-0.244135</td>\n",
              "      <td>-0.017665</td>\n",
              "      <td>-0.090144</td>\n",
              "      <td>0.017101</td>\n",
              "      <td>0.488686</td>\n",
              "      <td>-0.033387</td>\n",
              "      <td>-0.235408</td>\n",
              "      <td>0.026069</td>\n",
              "      <td>-0.175637</td>\n",
              "      <td>...</td>\n",
              "      <td>-0.005627</td>\n",
              "      <td>0.300600</td>\n",
              "      <td>0.011004</td>\n",
              "      <td>0.060047</td>\n",
              "      <td>-0.129724</td>\n",
              "      <td>0.229281</td>\n",
              "      <td>-0.046483</td>\n",
              "      <td>0.033022</td>\n",
              "      <td>-0.116759</td>\n",
              "      <td>-0.104992</td>\n",
              "    </tr>\n",
              "    <tr>\n",
              "      <th>20</th>\n",
              "      <td>-0.068570</td>\n",
              "      <td>0.448369</td>\n",
              "      <td>-0.069769</td>\n",
              "      <td>-0.018443</td>\n",
              "      <td>-0.119492</td>\n",
              "      <td>0.192621</td>\n",
              "      <td>0.005572</td>\n",
              "      <td>-0.009424</td>\n",
              "      <td>-0.086938</td>\n",
              "      <td>-0.076272</td>\n",
              "      <td>...</td>\n",
              "      <td>0.007294</td>\n",
              "      <td>-0.594440</td>\n",
              "      <td>-0.092024</td>\n",
              "      <td>0.146790</td>\n",
              "      <td>0.164849</td>\n",
              "      <td>0.181375</td>\n",
              "      <td>-0.132101</td>\n",
              "      <td>0.000886</td>\n",
              "      <td>0.162709</td>\n",
              "      <td>-0.092344</td>\n",
              "    </tr>\n",
              "    <tr>\n",
              "      <th>21</th>\n",
              "      <td>0.072929</td>\n",
              "      <td>0.094801</td>\n",
              "      <td>0.075160</td>\n",
              "      <td>0.097566</td>\n",
              "      <td>0.063823</td>\n",
              "      <td>-0.098078</td>\n",
              "      <td>-0.185212</td>\n",
              "      <td>-0.311852</td>\n",
              "      <td>-0.018407</td>\n",
              "      <td>0.287869</td>\n",
              "      <td>...</td>\n",
              "      <td>-0.096298</td>\n",
              "      <td>-0.111112</td>\n",
              "      <td>0.017222</td>\n",
              "      <td>-0.096960</td>\n",
              "      <td>-0.068254</td>\n",
              "      <td>0.029676</td>\n",
              "      <td>0.460426</td>\n",
              "      <td>0.299841</td>\n",
              "      <td>0.097145</td>\n",
              "      <td>-0.469471</td>\n",
              "    </tr>\n",
              "    <tr>\n",
              "      <th>22</th>\n",
              "      <td>-0.098553</td>\n",
              "      <td>-0.000555</td>\n",
              "      <td>-0.040245</td>\n",
              "      <td>0.007777</td>\n",
              "      <td>-0.020666</td>\n",
              "      <td>0.052360</td>\n",
              "      <td>0.324870</td>\n",
              "      <td>-0.051409</td>\n",
              "      <td>-0.051201</td>\n",
              "      <td>-0.084690</td>\n",
              "      <td>...</td>\n",
              "      <td>-0.055677</td>\n",
              "      <td>-0.008923</td>\n",
              "      <td>0.063345</td>\n",
              "      <td>0.190890</td>\n",
              "      <td>0.093690</td>\n",
              "      <td>-0.147921</td>\n",
              "      <td>0.286433</td>\n",
              "      <td>-0.567528</td>\n",
              "      <td>0.121343</td>\n",
              "      <td>0.007625</td>\n",
              "    </tr>\n",
              "    <tr>\n",
              "      <th>23</th>\n",
              "      <td>0.182579</td>\n",
              "      <td>-0.098787</td>\n",
              "      <td>0.116649</td>\n",
              "      <td>-0.069848</td>\n",
              "      <td>-0.068697</td>\n",
              "      <td>0.104136</td>\n",
              "      <td>-0.044741</td>\n",
              "      <td>-0.084028</td>\n",
              "      <td>-0.019339</td>\n",
              "      <td>0.133261</td>\n",
              "      <td>...</td>\n",
              "      <td>0.156830</td>\n",
              "      <td>0.118485</td>\n",
              "      <td>-0.237113</td>\n",
              "      <td>-0.144063</td>\n",
              "      <td>0.010990</td>\n",
              "      <td>-0.186750</td>\n",
              "      <td>0.288853</td>\n",
              "      <td>-0.107340</td>\n",
              "      <td>0.014382</td>\n",
              "      <td>-0.037825</td>\n",
              "    </tr>\n",
              "    <tr>\n",
              "      <th>24</th>\n",
              "      <td>0.019226</td>\n",
              "      <td>-0.084746</td>\n",
              "      <td>-0.027015</td>\n",
              "      <td>0.210041</td>\n",
              "      <td>-0.028955</td>\n",
              "      <td>-0.396623</td>\n",
              "      <td>0.096977</td>\n",
              "      <td>0.186452</td>\n",
              "      <td>0.024584</td>\n",
              "      <td>0.207222</td>\n",
              "      <td>...</td>\n",
              "      <td>-0.070710</td>\n",
              "      <td>0.118190</td>\n",
              "      <td>-0.118034</td>\n",
              "      <td>0.038290</td>\n",
              "      <td>0.047965</td>\n",
              "      <td>0.624385</td>\n",
              "      <td>-0.115770</td>\n",
              "      <td>-0.263196</td>\n",
              "      <td>-0.045300</td>\n",
              "      <td>-0.280133</td>\n",
              "    </tr>\n",
              "    <tr>\n",
              "      <th>25</th>\n",
              "      <td>-0.129476</td>\n",
              "      <td>-0.024557</td>\n",
              "      <td>-0.125256</td>\n",
              "      <td>0.362727</td>\n",
              "      <td>-0.037004</td>\n",
              "      <td>0.262808</td>\n",
              "      <td>-0.548876</td>\n",
              "      <td>0.387643</td>\n",
              "      <td>-0.016044</td>\n",
              "      <td>-0.097405</td>\n",
              "      <td>...</td>\n",
              "      <td>-0.197055</td>\n",
              "      <td>0.036469</td>\n",
              "      <td>-0.244104</td>\n",
              "      <td>0.231360</td>\n",
              "      <td>0.012602</td>\n",
              "      <td>-0.100463</td>\n",
              "      <td>0.266854</td>\n",
              "      <td>-0.133575</td>\n",
              "      <td>0.028184</td>\n",
              "      <td>0.004520</td>\n",
              "    </tr>\n",
              "    <tr>\n",
              "      <th>26</th>\n",
              "      <td>-0.131527</td>\n",
              "      <td>-0.017357</td>\n",
              "      <td>-0.115415</td>\n",
              "      <td>0.466612</td>\n",
              "      <td>0.069690</td>\n",
              "      <td>0.097749</td>\n",
              "      <td>0.364808</td>\n",
              "      <td>-0.454699</td>\n",
              "      <td>-0.015165</td>\n",
              "      <td>-0.101245</td>\n",
              "      <td>...</td>\n",
              "      <td>-0.178667</td>\n",
              "      <td>0.021411</td>\n",
              "      <td>-0.241031</td>\n",
              "      <td>0.237162</td>\n",
              "      <td>-0.040854</td>\n",
              "      <td>-0.070505</td>\n",
              "      <td>-0.142906</td>\n",
              "      <td>0.230901</td>\n",
              "      <td>0.022790</td>\n",
              "      <td>0.059986</td>\n",
              "    </tr>\n",
              "    <tr>\n",
              "      <th>27</th>\n",
              "      <td>0.211194</td>\n",
              "      <td>-0.000066</td>\n",
              "      <td>0.084338</td>\n",
              "      <td>-0.272508</td>\n",
              "      <td>0.001479</td>\n",
              "      <td>-0.005463</td>\n",
              "      <td>0.045539</td>\n",
              "      <td>-0.008883</td>\n",
              "      <td>0.001433</td>\n",
              "      <td>-0.006312</td>\n",
              "      <td>...</td>\n",
              "      <td>0.412640</td>\n",
              "      <td>-0.000390</td>\n",
              "      <td>-0.728681</td>\n",
              "      <td>0.238960</td>\n",
              "      <td>-0.001535</td>\n",
              "      <td>0.048692</td>\n",
              "      <td>-0.017641</td>\n",
              "      <td>0.022476</td>\n",
              "      <td>0.004920</td>\n",
              "      <td>-0.023562</td>\n",
              "    </tr>\n",
              "    <tr>\n",
              "      <th>28</th>\n",
              "      <td>0.211460</td>\n",
              "      <td>-0.010534</td>\n",
              "      <td>0.383826</td>\n",
              "      <td>-0.422795</td>\n",
              "      <td>-0.003435</td>\n",
              "      <td>-0.041017</td>\n",
              "      <td>-0.010015</td>\n",
              "      <td>-0.004207</td>\n",
              "      <td>-0.007570</td>\n",
              "      <td>0.007301</td>\n",
              "      <td>...</td>\n",
              "      <td>-0.635725</td>\n",
              "      <td>0.017235</td>\n",
              "      <td>0.022922</td>\n",
              "      <td>0.444936</td>\n",
              "      <td>0.007385</td>\n",
              "      <td>0.000004</td>\n",
              "      <td>-0.012676</td>\n",
              "      <td>0.035240</td>\n",
              "      <td>0.013404</td>\n",
              "      <td>0.011478</td>\n",
              "    </tr>\n",
              "    <tr>\n",
              "      <th>29</th>\n",
              "      <td>-0.702414</td>\n",
              "      <td>-0.000274</td>\n",
              "      <td>0.689897</td>\n",
              "      <td>0.032947</td>\n",
              "      <td>0.004847</td>\n",
              "      <td>-0.044674</td>\n",
              "      <td>-0.025139</td>\n",
              "      <td>0.001077</td>\n",
              "      <td>0.001280</td>\n",
              "      <td>0.004756</td>\n",
              "      <td>...</td>\n",
              "      <td>0.135643</td>\n",
              "      <td>-0.001021</td>\n",
              "      <td>-0.079744</td>\n",
              "      <td>-0.039742</td>\n",
              "      <td>-0.004583</td>\n",
              "      <td>0.012842</td>\n",
              "      <td>-0.000402</td>\n",
              "      <td>0.002288</td>\n",
              "      <td>-0.000395</td>\n",
              "      <td>-0.001894</td>\n",
              "    </tr>\n",
              "  </tbody>\n",
              "</table>\n",
              "<p>30 rows × 30 columns</p>\n",
              "</div>\n",
              "      <button class=\"colab-df-convert\" onclick=\"convertToInteractive('df-63bdf603-52be-475d-98b8-b21cd8561669')\"\n",
              "              title=\"Convert this dataframe to an interactive table.\"\n",
              "              style=\"display:none;\">\n",
              "        \n",
              "  <svg xmlns=\"http://www.w3.org/2000/svg\" height=\"24px\"viewBox=\"0 0 24 24\"\n",
              "       width=\"24px\">\n",
              "    <path d=\"M0 0h24v24H0V0z\" fill=\"none\"/>\n",
              "    <path d=\"M18.56 5.44l.94 2.06.94-2.06 2.06-.94-2.06-.94-.94-2.06-.94 2.06-2.06.94zm-11 1L8.5 8.5l.94-2.06 2.06-.94-2.06-.94L8.5 2.5l-.94 2.06-2.06.94zm10 10l.94 2.06.94-2.06 2.06-.94-2.06-.94-.94-2.06-.94 2.06-2.06.94z\"/><path d=\"M17.41 7.96l-1.37-1.37c-.4-.4-.92-.59-1.43-.59-.52 0-1.04.2-1.43.59L10.3 9.45l-7.72 7.72c-.78.78-.78 2.05 0 2.83L4 21.41c.39.39.9.59 1.41.59.51 0 1.02-.2 1.41-.59l7.78-7.78 2.81-2.81c.8-.78.8-2.07 0-2.86zM5.41 20L4 18.59l7.72-7.72 1.47 1.35L5.41 20z\"/>\n",
              "  </svg>\n",
              "      </button>\n",
              "      \n",
              "  <style>\n",
              "    .colab-df-container {\n",
              "      display:flex;\n",
              "      flex-wrap:wrap;\n",
              "      gap: 12px;\n",
              "    }\n",
              "\n",
              "    .colab-df-convert {\n",
              "      background-color: #E8F0FE;\n",
              "      border: none;\n",
              "      border-radius: 50%;\n",
              "      cursor: pointer;\n",
              "      display: none;\n",
              "      fill: #1967D2;\n",
              "      height: 32px;\n",
              "      padding: 0 0 0 0;\n",
              "      width: 32px;\n",
              "    }\n",
              "\n",
              "    .colab-df-convert:hover {\n",
              "      background-color: #E2EBFA;\n",
              "      box-shadow: 0px 1px 2px rgba(60, 64, 67, 0.3), 0px 1px 3px 1px rgba(60, 64, 67, 0.15);\n",
              "      fill: #174EA6;\n",
              "    }\n",
              "\n",
              "    [theme=dark] .colab-df-convert {\n",
              "      background-color: #3B4455;\n",
              "      fill: #D2E3FC;\n",
              "    }\n",
              "\n",
              "    [theme=dark] .colab-df-convert:hover {\n",
              "      background-color: #434B5C;\n",
              "      box-shadow: 0px 1px 3px 1px rgba(0, 0, 0, 0.15);\n",
              "      filter: drop-shadow(0px 1px 2px rgba(0, 0, 0, 0.3));\n",
              "      fill: #FFFFFF;\n",
              "    }\n",
              "  </style>\n",
              "\n",
              "      <script>\n",
              "        const buttonEl =\n",
              "          document.querySelector('#df-63bdf603-52be-475d-98b8-b21cd8561669 button.colab-df-convert');\n",
              "        buttonEl.style.display =\n",
              "          google.colab.kernel.accessAllowed ? 'block' : 'none';\n",
              "\n",
              "        async function convertToInteractive(key) {\n",
              "          const element = document.querySelector('#df-63bdf603-52be-475d-98b8-b21cd8561669');\n",
              "          const dataTable =\n",
              "            await google.colab.kernel.invokeFunction('convertToInteractive',\n",
              "                                                     [key], {});\n",
              "          if (!dataTable) return;\n",
              "\n",
              "          const docLinkHtml = 'Like what you see? Visit the ' +\n",
              "            '<a target=\"_blank\" href=https://colab.research.google.com/notebooks/data_table.ipynb>data table notebook</a>'\n",
              "            + ' to learn more about interactive tables.';\n",
              "          element.innerHTML = '';\n",
              "          dataTable['output_type'] = 'display_data';\n",
              "          await google.colab.output.renderOutput(dataTable, element);\n",
              "          const docLink = document.createElement('div');\n",
              "          docLink.innerHTML = docLinkHtml;\n",
              "          element.appendChild(docLink);\n",
              "        }\n",
              "      </script>\n",
              "    </div>\n",
              "  </div>\n",
              "  "
            ]
          },
          "metadata": {},
          "execution_count": 44
        }
      ]
    },
    {
      "cell_type": "code",
      "source": [
        "#grafico de barra para visualizar el porcentaje de varianza explicado por cada componente\n",
        "percent_variance = np.round(modelo_pca.explained_variance_ratio_* 100, decimals =2)\n",
        "\n",
        "plt.bar(x= range(1,31), height=percent_variance)\n",
        "plt.xticks(np.arange(modelo_pca.n_components_) + 1)\n",
        "\n",
        "plt.ylabel('Componente principal')\n",
        "plt.xlabel('Por. varianza explicada')\n",
        "plt.title('Porcentaje de varianza explicada por cada componente')\n",
        "plt.show()"
      ],
      "metadata": {
        "colab": {
          "base_uri": "https://localhost:8080/",
          "height": 533
        },
        "id": "OhMZaqUehBn9",
        "outputId": "ff1bea7c-df88-4add-d4c6-3ae1831a3640"
      },
      "execution_count": null,
      "outputs": [
        {
          "output_type": "display_data",
          "data": {
            "text/plain": [
              "<Figure size 842.4x595.44 with 1 Axes>"
            ],
            "image/png": "[encoded data removed]"
          },
          "metadata": {}
        }
      ]
    },
    {
      "cell_type": "code",
      "source": [
        "#grafico de linea para determinar el numero de componentes a usar en el PCA\n",
        "percent_variance_cum = np.cumsum(percent_variance)\n",
        "\n",
        "plt.plot(range(1,31), percent_variance_cum)\n",
        "plt.ylabel('Percentate of Variance Explained')\n",
        "plt.xlabel('Principal Component Cumsum')\n",
        "plt.title('PCA Scree Plot')\n",
        "plt.show()"
      ],
      "metadata": {
        "colab": {
          "base_uri": "https://localhost:8080/",
          "height": 533
        },
        "id": "CwfRjosChOot",
        "outputId": "e739a68c-773a-41e8-c11c-b1e72544ac8c"
      },
      "execution_count": null,
      "outputs": [
        {
          "output_type": "display_data",
          "data": {
            "text/plain": [
              "<Figure size 842.4x595.44 with 1 Axes>"
            ],
            "image/png": "[encoded data removed]"
          },
          "metadata": {}
        }
      ]
    },
    {
      "cell_type": "markdown",
      "source": [
        "A partir del grafico anterior se logra ver que el numero de componenetes al usar PCA debe ser entre 2 y 7, pues en este intervalo la varianza explicada deja de ser una recta. Ademas, usando 7 parametros en el PCA, se explica mas del 90% de la varianza, por lo tanto, usaremos 7 componenetes."
      ],
      "metadata": {
        "id": "CyKpZot9kBPf"
      }
    },
    {
      "cell_type": "code",
      "source": [
        "pca=PCA(n_components=7)\n",
        "x= new_df\n",
        "y= df.diagnosis\n",
        "new_x= pca.fit_transform(x)\n",
        "new_x= pd.DataFrame(new_x, index=df.id)\n",
        "new_x.head()"
      ],
      "metadata": {
        "id": "Uj4YSm1XcGD-",
        "outputId": "383f01c1-1cbe-4676-86c0-bbde744be529",
        "colab": {
          "base_uri": "https://localhost:8080/",
          "height": 237
        }
      },
      "execution_count": null,
      "outputs": [
        {
          "output_type": "execute_result",
          "data": {
            "text/plain": [
              "                 0          1         2         3         4         5  \\\n",
              "id                                                                      \n",
              "842302    9.192837   1.948583 -1.123166  3.633732 -1.195112  1.411439   \n",
              "842517    2.387802  -3.768172 -0.529293  1.118264  0.621775  0.028657   \n",
              "84300903  5.733896  -1.075174 -0.551748  0.912082 -0.177085  0.541440   \n",
              "84348301  7.122953  10.275589 -3.232790  0.152547 -2.960878  3.053422   \n",
              "84358402  3.935302  -1.948072  1.389767  2.940639  0.546748 -1.226498   \n",
              "\n",
              "                 6  \n",
              "id                  \n",
              "842302    2.159414  \n",
              "842517    0.013359  \n",
              "84300903 -0.668205  \n",
              "84348301  1.429911  \n",
              "84358402 -0.936223  "
            ],
            "text/html": [
              "\n",
              "  <div id=\"df-ea4dee3b-ddeb-4b58-a1f3-b89e07f84f69\">\n",
              "    <div class=\"colab-df-container\">\n",
              "      <div>\n",
              "<style scoped>\n",
              "    .dataframe tbody tr th:only-of-type {\n",
              "        vertical-align: middle;\n",
              "    }\n",
              "\n",
              "    .dataframe tbody tr th {\n",
              "        vertical-align: top;\n",
              "    }\n",
              "\n",
              "    .dataframe thead th {\n",
              "        text-align: right;\n",
              "    }\n",
              "</style>\n",
              "<table border=\"1\" class=\"dataframe\">\n",
              "  <thead>\n",
              "    <tr style=\"text-align: right;\">\n",
              "      <th></th>\n",
              "      <th>0</th>\n",
              "      <th>1</th>\n",
              "      <th>2</th>\n",
              "      <th>3</th>\n",
              "      <th>4</th>\n",
              "      <th>5</th>\n",
              "      <th>6</th>\n",
              "    </tr>\n",
              "    <tr>\n",
              "      <th>id</th>\n",
              "      <th></th>\n",
              "      <th></th>\n",
              "      <th></th>\n",
              "      <th></th>\n",
              "      <th></th>\n",
              "      <th></th>\n",
              "      <th></th>\n",
              "    </tr>\n",
              "  </thead>\n",
              "  <tbody>\n",
              "    <tr>\n",
              "      <th>842302</th>\n",
              "      <td>9.192837</td>\n",
              "      <td>1.948583</td>\n",
              "      <td>-1.123166</td>\n",
              "      <td>3.633732</td>\n",
              "      <td>-1.195112</td>\n",
              "      <td>1.411439</td>\n",
              "      <td>2.159414</td>\n",
              "    </tr>\n",
              "    <tr>\n",
              "      <th>842517</th>\n",
              "      <td>2.387802</td>\n",
              "      <td>-3.768172</td>\n",
              "      <td>-0.529293</td>\n",
              "      <td>1.118264</td>\n",
              "      <td>0.621775</td>\n",
              "      <td>0.028657</td>\n",
              "      <td>0.013359</td>\n",
              "    </tr>\n",
              "    <tr>\n",
              "      <th>84300903</th>\n",
              "      <td>5.733896</td>\n",
              "      <td>-1.075174</td>\n",
              "      <td>-0.551748</td>\n",
              "      <td>0.912082</td>\n",
              "      <td>-0.177085</td>\n",
              "      <td>0.541440</td>\n",
              "      <td>-0.668205</td>\n",
              "    </tr>\n",
              "    <tr>\n",
              "      <th>84348301</th>\n",
              "      <td>7.122953</td>\n",
              "      <td>10.275589</td>\n",
              "      <td>-3.232790</td>\n",
              "      <td>0.152547</td>\n",
              "      <td>-2.960878</td>\n",
              "      <td>3.053422</td>\n",
              "      <td>1.429911</td>\n",
              "    </tr>\n",
              "    <tr>\n",
              "      <th>84358402</th>\n",
              "      <td>3.935302</td>\n",
              "      <td>-1.948072</td>\n",
              "      <td>1.389767</td>\n",
              "      <td>2.940639</td>\n",
              "      <td>0.546748</td>\n",
              "      <td>-1.226498</td>\n",
              "      <td>-0.936223</td>\n",
              "    </tr>\n",
              "  </tbody>\n",
              "</table>\n",
              "</div>\n",
              "      <button class=\"colab-df-convert\" onclick=\"convertToInteractive('df-ea4dee3b-ddeb-4b58-a1f3-b89e07f84f69')\"\n",
              "              title=\"Convert this dataframe to an interactive table.\"\n",
              "              style=\"display:none;\">\n",
              "        \n",
              "  <svg xmlns=\"http://www.w3.org/2000/svg\" height=\"24px\"viewBox=\"0 0 24 24\"\n",
              "       width=\"24px\">\n",
              "    <path d=\"M0 0h24v24H0V0z\" fill=\"none\"/>\n",
              "    <path d=\"M18.56 5.44l.94 2.06.94-2.06 2.06-.94-2.06-.94-.94-2.06-.94 2.06-2.06.94zm-11 1L8.5 8.5l.94-2.06 2.06-.94-2.06-.94L8.5 2.5l-.94 2.06-2.06.94zm10 10l.94 2.06.94-2.06 2.06-.94-2.06-.94-.94-2.06-.94 2.06-2.06.94z\"/><path d=\"M17.41 7.96l-1.37-1.37c-.4-.4-.92-.59-1.43-.59-.52 0-1.04.2-1.43.59L10.3 9.45l-7.72 7.72c-.78.78-.78 2.05 0 2.83L4 21.41c.39.39.9.59 1.41.59.51 0 1.02-.2 1.41-.59l7.78-7.78 2.81-2.81c.8-.78.8-2.07 0-2.86zM5.41 20L4 18.59l7.72-7.72 1.47 1.35L5.41 20z\"/>\n",
              "  </svg>\n",
              "      </button>\n",
              "      \n",
              "  <style>\n",
              "    .colab-df-container {\n",
              "      display:flex;\n",
              "      flex-wrap:wrap;\n",
              "      gap: 12px;\n",
              "    }\n",
              "\n",
              "    .colab-df-convert {\n",
              "      background-color: #E8F0FE;\n",
              "      border: none;\n",
              "      border-radius: 50%;\n",
              "      cursor: pointer;\n",
              "      display: none;\n",
              "      fill: #1967D2;\n",
              "      height: 32px;\n",
              "      padding: 0 0 0 0;\n",
              "      width: 32px;\n",
              "    }\n",
              "\n",
              "    .colab-df-convert:hover {\n",
              "      background-color: #E2EBFA;\n",
              "      box-shadow: 0px 1px 2px rgba(60, 64, 67, 0.3), 0px 1px 3px 1px rgba(60, 64, 67, 0.15);\n",
              "      fill: #174EA6;\n",
              "    }\n",
              "\n",
              "    [theme=dark] .colab-df-convert {\n",
              "      background-color: #3B4455;\n",
              "      fill: #D2E3FC;\n",
              "    }\n",
              "\n",
              "    [theme=dark] .colab-df-convert:hover {\n",
              "      background-color: #434B5C;\n",
              "      box-shadow: 0px 1px 3px 1px rgba(0, 0, 0, 0.15);\n",
              "      filter: drop-shadow(0px 1px 2px rgba(0, 0, 0, 0.3));\n",
              "      fill: #FFFFFF;\n",
              "    }\n",
              "  </style>\n",
              "\n",
              "      <script>\n",
              "        const buttonEl =\n",
              "          document.querySelector('#df-ea4dee3b-ddeb-4b58-a1f3-b89e07f84f69 button.colab-df-convert');\n",
              "        buttonEl.style.display =\n",
              "          google.colab.kernel.accessAllowed ? 'block' : 'none';\n",
              "\n",
              "        async function convertToInteractive(key) {\n",
              "          const element = document.querySelector('#df-ea4dee3b-ddeb-4b58-a1f3-b89e07f84f69');\n",
              "          const dataTable =\n",
              "            await google.colab.kernel.invokeFunction('convertToInteractive',\n",
              "                                                     [key], {});\n",
              "          if (!dataTable) return;\n",
              "\n",
              "          const docLinkHtml = 'Like what you see? Visit the ' +\n",
              "            '<a target=\"_blank\" href=https://colab.research.google.com/notebooks/data_table.ipynb>data table notebook</a>'\n",
              "            + ' to learn more about interactive tables.';\n",
              "          element.innerHTML = '';\n",
              "          dataTable['output_type'] = 'display_data';\n",
              "          await google.colab.output.renderOutput(dataTable, element);\n",
              "          const docLink = document.createElement('div');\n",
              "          docLink.innerHTML = docLinkHtml;\n",
              "          element.appendChild(docLink);\n",
              "        }\n",
              "      </script>\n",
              "    </div>\n",
              "  </div>\n",
              "  "
            ]
          },
          "metadata": {},
          "execution_count": 47
        }
      ]
    },
    {
      "cell_type": "markdown",
      "source": [
        "4. Aplique al menos tres modelos de clasificación distintos. Para cada uno de los modelos escogidos, realice una optimización de los hiperparámetros. además, calcule las respectivas métricas. Concluya."
      ],
      "metadata": {
        "id": "dsdtNQ7uNSXb"
      }
    },
    {
      "cell_type": "code",
      "source": [
        "def mae(targets, predictions) -> float:\n",
        "    \"\"\"\n",
        "    Calculo de la metrica: mean absolute error (MAE)\n",
        "    :param targets: valor real\n",
        "    :param predictions: valor estimado\n",
        "    :return: valor de la metrica\n",
        "    \"\"\"\n",
        "    error = predictions - targets\n",
        "    return round(np.abs(error).mean(), 4)\n",
        "\n",
        "\n",
        "def mse(targets, predictions) -> float:\n",
        "    \"\"\"\n",
        "    Calculo de la metrica: mean squared error (MSE)\n",
        "    :param targets: valor real\n",
        "    :param predictions: valor estimado\n",
        "    :return: valor de la metrica\n",
        "    \"\"\"\n",
        "    error = predictions - targets\n",
        "    return round((error ** 2).mean(), 4)\n",
        "\n",
        "\n",
        "def rmse(targets, predictions) -> float:\n",
        "    \"\"\"\n",
        "    Calculo de la metrica: root mean squared error (RMSE)\n",
        "    :param targets: valor real\n",
        "    :param predictions: valor estimado\n",
        "    :return: valor de la metrica\n",
        "    \"\"\"\n",
        "    error = predictions - targets\n",
        "    return round(np.sqrt((error ** 2).mean()), 4)\n",
        "\n",
        "\n",
        "# b) Percentage errors\n",
        "\n",
        "def mape(targets, predictions) -> float:\n",
        "    \"\"\"\n",
        "    Calculo de la metrica: mean absolute percentage error (MAPE)\n",
        "    :param targets: valor real\n",
        "    :param predictions: valor estimado\n",
        "    :return: valor de la metrica\n",
        "    \"\"\"\n",
        "    error = predictions - targets\n",
        "\n",
        "    if any(x == 0 for x in targets):\n",
        "        return np.inf\n",
        "    else:\n",
        "        return round(np.abs(error / targets).mean(),4)\n",
        "\n",
        "\n",
        "def maape(targets, predictions) -> float:\n",
        "    \"\"\"\n",
        "    Calculo de la metrica:  mean arctangent percentage error  (MAAPE)\n",
        "    :param targets: valor real\n",
        "    :param predictions: valor estimado\n",
        "    :return: valor de la metrica\n",
        "    \"\"\"\n",
        "\n",
        "    error = predictions - targets\n",
        "\n",
        "    if any((x, y) == (0, 0) for x, y in zip(predictions, targets)):\n",
        "        return np.inf\n",
        "\n",
        "    else:\n",
        "        return round(np.arctan(np.abs(error / targets)).mean(),4)\n",
        "\n",
        "\n",
        "def wmape(targets, predictions) -> float:\n",
        "    \"\"\"\n",
        "    Calculo de la metrica:  weighted mean absolute percentage error (WMAPE)\n",
        "    :param targets: valor real\n",
        "    :param predictions: valor estimado\n",
        "    :return: valor de la metrica\n",
        "    \"\"\"\n",
        "    error = predictions - targets\n",
        "    sum_values = np.sum(targets)\n",
        "\n",
        "    if sum_values == 0:\n",
        "        return np.inf\n",
        "    else:\n",
        "        return round(np.abs(error).sum() / sum_values,4)\n",
        "\n",
        "\n",
        "def mmape(targets, predictions) -> float:\n",
        "    \"\"\"\n",
        "    Calculo de la metrica: modified mean absolute percentage error (MMAPE)\n",
        "    :param targets: valor real\n",
        "    :param predictions: valor estimado\n",
        "    :return: valor de la metrica\n",
        "    \"\"\"\n",
        "    error = np.abs(predictions - targets)\n",
        "    denom = 1 + np.abs(targets)\n",
        "\n",
        "    return round(np.mean(error / denom),4)\n",
        "\n",
        "\n",
        "def smape(targets, predictions) -> float:\n",
        "    \"\"\"\n",
        "    Calculo de la metrica: symmetric mean absolute percentage error (SMAPE)\n",
        "    :param targets: valor real\n",
        "    :param predictions: valor estimado\n",
        "    :return: valor de la metrica\n",
        "    \"\"\"\n",
        "    error = predictions - targets\n",
        "    sum_values = np.abs(predictions) + np.abs(targets)\n",
        "\n",
        "    if any(x == 0 for x in sum_values):\n",
        "        return np.inf\n",
        "\n",
        "    else:\n",
        "        return round(2 * np.mean(np.abs(error) / sum_values),4)\n",
        "\n",
        "def summary_metrics(df) -> pd.DataFrame:\n",
        "    \"\"\"\n",
        "    Aplicar las distintas metricas definidas\n",
        "    :param df:  dataframe con las columnas: ['y','yhat']\n",
        "    :return: dataframe con las metricas especificadas\n",
        "    \"\"\"\n",
        "    df_result = pd.DataFrame()\n",
        "\n",
        "    y_true = df['y']\n",
        "    y_pred = df['yhat']\n",
        "\n",
        "    df_result['mae'] = [round(mae(y_true, y_pred), 4)]\n",
        "    df_result['mse'] = [round(mse(y_true, y_pred), 4)]\n",
        "    df_result['rmse'] = [round(rmse(y_true, y_pred), 4)]\n",
        "\n",
        "    df_result['mape'] = [round(mape(y_true, y_pred), 4)]\n",
        "    df_result['maape'] = [round(maape(y_true, y_pred), 4)]\n",
        "    df_result['wmape'] = [round(wmape(y_true, y_pred), 4)]\n",
        "    df_result['mmape'] = [round(mmape(y_true, y_pred), 4)]\n",
        "    df_result['smape'] = [round(smape(y_true, y_pred), 4)]\n",
        "\n",
        "    # nombre del modelo por defecto\n",
        "    #try:\n",
        "    #    model = df['model'][0]\n",
        "    #    df_result['model'] = [model]\n",
        "    #except:\n",
        "    #    df_result['model'] = ['---']\n",
        "\n",
        "    return df_result"
      ],
      "metadata": {
        "id": "J_ra3zn4knG5"
      },
      "execution_count": null,
      "outputs": []
    },
    {
      "cell_type": "code",
      "source": [
        "from sklearn.metrics import accuracy_score, recall_score, precision_score, f1_score\n",
        "\n",
        "\n",
        "def summary_metrics2(df) -> pd.DataFrame:\n",
        "    \"\"\"\n",
        "    Aplicar las distintas metricas definidas\n",
        "    :param df:  dataframe con las columnas: ['y','yhat']\n",
        "    :return: dataframe con las metricas especificadas\n",
        "    \"\"\"\n",
        "    df_result = pd.DataFrame()\n",
        "\n",
        "    y_true = df['y']\n",
        "    y_pred = df['yhat']\n",
        "\n",
        "    df_result['accuracy'] = [round(accuracy_score(y_true,y_pred),4)]\n",
        "    df_result['recall'] = [round(recall_score(y_true,y_pred, average=\"macro\"),4)]\n",
        "    df_result['precision'] = [round(precision_score(y_true,y_pred, average=\"macro\"),4)]\n",
        "    df_result['fscore'] = [round(f1_score(y_true,y_pred, average=\"macro\"),4)]\n",
        "\n",
        "\n",
        "    return df_result"
      ],
      "metadata": {
        "id": "7J3SI1shOBKW"
      },
      "execution_count": null,
      "outputs": []
    },
    {
      "cell_type": "code",
      "source": [
        "from sklearn.linear_model import LogisticRegression\n",
        "from sklearn.svm import SVC\n",
        "from sklearn.tree import DecisionTreeClassifier\n",
        "from sklearn.model_selection import train_test_split\n",
        "from sklearn.model_selection import GridSearchCV\n",
        "\n",
        "x_train, x_test, y_train, y_test = train_test_split(new_x, y, test_size=0.2, random_state = 39)\n",
        "log= LogisticRegression()\n",
        "log.fit(x_train, y_train)"
      ],
      "metadata": {
        "id": "zTtij88dgMNv",
        "outputId": "61f22f7c-13e6-40b1-9cde-bcd716559288",
        "colab": {
          "base_uri": "https://localhost:8080/"
        }
      },
      "execution_count": null,
      "outputs": [
        {
          "output_type": "execute_result",
          "data": {
            "text/plain": [
              "LogisticRegression()"
            ]
          },
          "metadata": {},
          "execution_count": 72
        }
      ]
    },
    {
      "cell_type": "code",
      "source": [
        "print(\"Puntaje de entrenamiento del regresor logistico:\")\n",
        "print(log.score(x_train, y_train))\n",
        "df_log= pd.DataFrame({'y': y_test, 'yhat': log.predict(x_test)})\n",
        "df_metrics_log=summary_metrics(df_log)\n",
        "df_metrics2_log=summary_metrics2(df_log)\n",
        "print(\"\\n Errores del regresor logistico:\")\n",
        "print(df_metrics_log)\n",
        "print(\"\\n Metricas de clasificacion del regresor logistico:\")\n",
        "print(df_metrics2_log)"
      ],
      "metadata": {
        "colab": {
          "base_uri": "https://localhost:8080/"
        },
        "id": "TdbbSGWbNR99",
        "outputId": "43065344-1d03-4ec0-c8a0-8564db5b81bd"
      },
      "execution_count": null,
      "outputs": [
        {
          "output_type": "stream",
          "name": "stdout",
          "text": [
            "Puntaje de entrenamiento del regresor logistico:\n",
            "0.978021978021978\n",
            "\n",
            " Errores del regresor logistico:\n",
            "      mae     mse    rmse  mape  maape   wmape   mmape  smape\n",
            "0  0.0263  0.0263  0.1622   inf    inf  0.0714  0.0175    inf\n",
            "\n",
            " Metricas de clasificacion del regresor logistico:\n",
            "   accuracy  recall  precision  fscore\n",
            "0    0.9737  0.9692     0.9741  0.9716\n"
          ]
        }
      ]
    },
    {
      "cell_type": "code",
      "source": [
        "#@title Texto de título predeterminado\n",
        "svc= SVC()\n",
        "svc.fit(x_train, y_train)\n",
        "print(\"Puntaje de entrenamiento del svc:\")\n",
        "print(svc.score(x_train, y_train))\n",
        "df_svc= pd.DataFrame({'y': y_test, 'yhat': svc.predict(x_test)})\n",
        "df_metrics_svc=summary_metrics(df_svc)\n",
        "df_metrics2_svc=summary_metrics2(df_svc)\n",
        "print(\"\\n Metricas del svc:\")\n",
        "print(df_metrics_svc)\n",
        "print(\"\\n Metricas de clasificacion del svc:\")\n",
        "print(df_metrics2_svc)"
      ],
      "metadata": {
        "id": "B4hozma3rA9d",
        "outputId": "04f75da4-6820-4694-c15f-8b1ed6ad6c1b",
        "colab": {
          "base_uri": "https://localhost:8080/"
        }
      },
      "execution_count": null,
      "outputs": [
        {
          "output_type": "stream",
          "name": "stdout",
          "text": [
            "Puntaje de entrenamiento del svc:\n",
            "0.978021978021978\n",
            "\n",
            " Metricas del svc:\n",
            "      mae     mse    rmse  mape  maape   wmape   mmape  smape\n",
            "0  0.0263  0.0263  0.1622   inf    inf  0.0714  0.0219    inf\n",
            "\n",
            " Metricas de clasificacion del svc:\n",
            "   accuracy  recall  precision  fscore\n",
            "0    0.9737  0.9742     0.9697  0.9719\n"
          ]
        }
      ]
    },
    {
      "cell_type": "code",
      "source": [
        "tree= DecisionTreeClassifier(random_state=96)\n",
        "tree.get_params()\n"
      ],
      "metadata": {
        "id": "Fcn9y4Zprc6S",
        "outputId": "5cdacb67-cecc-48d9-b6a4-eccac42a3338",
        "colab": {
          "base_uri": "https://localhost:8080/"
        }
      },
      "execution_count": null,
      "outputs": [
        {
          "output_type": "execute_result",
          "data": {
            "text/plain": [
              "{'ccp_alpha': 0.0,\n",
              " 'class_weight': None,\n",
              " 'criterion': 'gini',\n",
              " 'max_depth': None,\n",
              " 'max_features': None,\n",
              " 'max_leaf_nodes': None,\n",
              " 'min_impurity_decrease': 0.0,\n",
              " 'min_samples_leaf': 1,\n",
              " 'min_samples_split': 2,\n",
              " 'min_weight_fraction_leaf': 0.0,\n",
              " 'random_state': 96,\n",
              " 'splitter': 'best'}"
            ]
          },
          "metadata": {},
          "execution_count": 63
        }
      ]
    },
    {
      "cell_type": "code",
      "source": [
        "param_tree= {\"criterion\": ['gini', 'entropy'], \n",
        "             \"max_depth\": [3, 4, 5, 6, 7, 8, 9, 10, 20, 30, 40, 50, 70, 90, 100]}\n",
        "grilla_tree= GridSearchCV(tree, param_tree, scoring='accuracy', cv=5, n_jobs=-1)\n",
        "grilla_tree= grilla_tree.fit(x_train, y_train)"
      ],
      "metadata": {
        "id": "Rvzh8KmNUuGW"
      },
      "execution_count": null,
      "outputs": []
    },
    {
      "cell_type": "code",
      "source": [
        "#ver los resultados d grilla_tree\n",
        "print(grilla_tree.best_score_)\n",
        "print(grilla_tree.best_params_)"
      ],
      "metadata": {
        "colab": {
          "base_uri": "https://localhost:8080/"
        },
        "id": "P5sh7zuPWUIz",
        "outputId": "ddbac1b9-3f45-4453-bd75-1f07b46ffe4f"
      },
      "execution_count": null,
      "outputs": [
        {
          "output_type": "stream",
          "name": "stdout",
          "text": [
            "0.9406593406593406\n",
            "{'criterion': 'entropy', 'max_depth': 6}\n"
          ]
        }
      ]
    },
    {
      "cell_type": "code",
      "source": [
        "#utilizar el mejor modelo\n",
        "mejor_modelo= grilla_tree.best_estimator_\n",
        "mejor_modelo.fit(x_train, y_train)\n",
        "\n",
        "print(\"Puntaje de entrenamiento del arbol de decision clasificador:\")\n",
        "print(mejor_modelo.score(x_train, y_train))\n",
        "df_tree= pd.DataFrame({'y': y_test, 'yhat': mejor_modelo.predict(x_test)})\n",
        "df_metrics_tree=summary_metrics(df_tree)\n",
        "df_metrics2_tree=summary_metrics2(df_tree)\n",
        "print(\"\\n Metricas del arbol de decision clasificador:\")\n",
        "print(df_metrics_tree)\n",
        "print(\"\\n Metricas de clasificacion del arbol de decision clasificador:\")\n",
        "print(df_metrics2_tree)"
      ],
      "metadata": {
        "colab": {
          "base_uri": "https://localhost:8080/"
        },
        "id": "HVF1s0ZzT-4Y",
        "outputId": "bb836863-6bce-4564-b665-d127935b4957"
      },
      "execution_count": null,
      "outputs": [
        {
          "output_type": "stream",
          "name": "stdout",
          "text": [
            "Puntaje de entrenamiento del arbol de decision clasificador:\n",
            "0.9978021978021978\n",
            "\n",
            " Metricas del arbol de decision clasificador:\n",
            "      mae     mse    rmse  mape  maape   wmape   mmape  smape\n",
            "0  0.0614  0.0614  0.2478   inf    inf  0.1667  0.0526    inf\n",
            "\n",
            " Metricas de clasificacion del arbol de decision clasificador:\n",
            "   accuracy  recall  precision  fscore\n",
            "0    0.9386  0.9415       0.93  0.9349\n"
          ]
        }
      ]
    },
    {
      "cell_type": "markdown",
      "source": [
        "Al usar los modelos Regression Logistic, SVC y DecisionTreeClasifier para poder calsificar si un paciente tiene cancer o no, se logra ver que el modelo SVC tiene mayor Accuracy, Recall y Precision que los otros modelos; además, sus metricas mae, mse, rmse y wmape son son las menores de entre estos 3 modelos. Por lo tanto, se puede concluir que el modelo SVC seria el mejor de estos 3 modelos para cumplir la tarea de identificar si un paciente tiene cancer o no."
      ],
      "metadata": {
        "id": "dyKZiUEKXbcR"
      }
    }
  ],
  "metadata": {
    "kernelspec": {
      "display_name": "Python 3 (ipykernel)",
      "language": "python",
      "name": "python3"
    },
    "language_info": {
      "codemirror_mode": {
        "name": "ipython",
        "version": 3
      },
      "file_extension": ".py",
      "mimetype": "text/x-python",
      "name": "python",
      "nbconvert_exporter": "python",
      "pygments_lexer": "ipython3",
      "version": "3.8.10"
    },
    "colab": {
      "provenance": [],
      "collapsed_sections": []
    }
  },
  "nbformat": 4,
  "nbformat_minor": 0
}